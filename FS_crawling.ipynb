{
  "nbformat": 4,
  "nbformat_minor": 0,
  "metadata": {
    "colab": {
      "name": "FS_crawling.ipynb",
      "provenance": [],
      "collapsed_sections": [],
      "authorship_tag": "ABX9TyPPwh2BQTuzBIIWVZMT25c0"
    },
    "kernelspec": {
      "display_name": "Python 3",
      "name": "python3"
    },
    "widgets": {
      "application/vnd.jupyter.widget-state+json": {
        "ded5a6baf7ff4635b54caccff607c72d": {
          "model_module": "@jupyter-widgets/output",
          "model_name": "OutputModel",
          "state": {
            "_dom_classes": [],
            "_model_module": "@jupyter-widgets/output",
            "_model_module_version": "1.0.0",
            "_model_name": "OutputModel",
            "_view_count": null,
            "_view_module": "@jupyter-widgets/output",
            "_view_module_version": "1.0.0",
            "_view_name": "OutputView",
            "layout": "IPY_MODEL_e9b438ae356c4d9dacce5364a28bfdfc",
            "msg_id": "",
            "outputs": [
              {
                "name": "stdout",
                "output_type": "stream",
                "text": ""
              }
            ]
          }
        },
        "e9b438ae356c4d9dacce5364a28bfdfc": {
          "model_module": "@jupyter-widgets/base",
          "model_name": "LayoutModel",
          "state": {
            "_model_module": "@jupyter-widgets/base",
            "_model_module_version": "1.2.0",
            "_model_name": "LayoutModel",
            "_view_count": null,
            "_view_module": "@jupyter-widgets/base",
            "_view_module_version": "1.2.0",
            "_view_name": "LayoutView",
            "align_content": null,
            "align_items": null,
            "align_self": null,
            "border": null,
            "bottom": null,
            "display": null,
            "flex": null,
            "flex_flow": null,
            "grid_area": null,
            "grid_auto_columns": null,
            "grid_auto_flow": null,
            "grid_auto_rows": null,
            "grid_column": null,
            "grid_gap": null,
            "grid_row": null,
            "grid_template_areas": null,
            "grid_template_columns": null,
            "grid_template_rows": null,
            "height": null,
            "justify_content": null,
            "justify_items": null,
            "left": null,
            "margin": null,
            "max_height": null,
            "max_width": null,
            "min_height": null,
            "min_width": null,
            "object_fit": null,
            "object_position": null,
            "order": null,
            "overflow": null,
            "overflow_x": null,
            "overflow_y": null,
            "padding": null,
            "right": null,
            "top": null,
            "visibility": null,
            "width": null
          }
        },
        "eb2abe8d4b6a4075a646f366bc0b9ae1": {
          "model_module": "@jupyter-widgets/output",
          "model_name": "OutputModel",
          "state": {
            "_dom_classes": [],
            "_model_module": "@jupyter-widgets/output",
            "_model_module_version": "1.0.0",
            "_model_name": "OutputModel",
            "_view_count": null,
            "_view_module": "@jupyter-widgets/output",
            "_view_module_version": "1.0.0",
            "_view_name": "OutputView",
            "layout": "IPY_MODEL_71c1fd65484d4a8db2649ff19192bd5b",
            "msg_id": "",
            "outputs": [
              {
                "name": "stdout",
                "output_type": "stream",
                "text": "\r\u001b[1m\u001b[36m⠋\u001b[0m Loading Companies in OpenDART"
              },
              {
                "name": "stdout",
                "output_type": "stream",
                "text": "\r\u001b[1m\u001b[36m⠙\u001b[0m Loading Companies in OpenDART"
              },
              {
                "name": "stdout",
                "output_type": "stream",
                "text": "\r\u001b[1m\u001b[36m⠹\u001b[0m Loading Companies in OpenDART"
              },
              {
                "name": "stdout",
                "output_type": "stream",
                "text": "\r\u001b[1m\u001b[36m⠸\u001b[0m Loading Companies in OpenDART"
              },
              {
                "name": "stdout",
                "output_type": "stream",
                "text": "\r\u001b[1m\u001b[36m⠼\u001b[0m Loading Companies in OpenDART"
              },
              {
                "name": "stdout",
                "output_type": "stream",
                "text": "\r\u001b[1m\u001b[36m⠴\u001b[0m Loading Companies in OpenDART"
              },
              {
                "name": "stdout",
                "output_type": "stream",
                "text": "\r\u001b[1m\u001b[36m⠦\u001b[0m Loading Companies in OpenDART"
              },
              {
                "name": "stdout",
                "output_type": "stream",
                "text": "\r\u001b[1m\u001b[36m⠧\u001b[0m Loading Companies in OpenDART"
              },
              {
                "name": "stdout",
                "output_type": "stream",
                "text": "\r\u001b[1m\u001b[36m⠇\u001b[0m Loading Companies in OpenDART"
              },
              {
                "name": "stdout",
                "output_type": "stream",
                "text": "\r\u001b[1m\u001b[36m⠏\u001b[0m Loading Companies in OpenDART"
              },
              {
                "name": "stdout",
                "output_type": "stream",
                "text": "\r\u001b[1m\u001b[36m⠋\u001b[0m Loading Companies in OpenDART"
              },
              {
                "name": "stdout",
                "output_type": "stream",
                "text": "\r\u001b[1m\u001b[36m⠙\u001b[0m Loading Companies in OpenDART"
              },
              {
                "name": "stdout",
                "output_type": "stream",
                "text": "\r\u001b[1m\u001b[36m⠹\u001b[0m Loading Companies in OpenDART"
              },
              {
                "name": "stdout",
                "output_type": "stream",
                "text": "\r\u001b[1m\u001b[36m⠸\u001b[0m Loading Companies in OpenDART"
              },
              {
                "name": "stdout",
                "output_type": "stream",
                "text": "\r\u001b[1m\u001b[36m⠼\u001b[0m Loading Companies in OpenDART"
              },
              {
                "name": "stdout",
                "output_type": "stream",
                "text": "\r\u001b[1m\u001b[36m⠴\u001b[0m Loading Companies in OpenDART"
              },
              {
                "name": "stdout",
                "output_type": "stream",
                "text": "\r\u001b[1m\u001b[36m⠦\u001b[0m Loading Companies in OpenDART"
              },
              {
                "name": "stdout",
                "output_type": "stream",
                "text": "\r\u001b[1m\u001b[36m⠧\u001b[0m Loading Companies in OpenDART"
              },
              {
                "name": "stdout",
                "output_type": "stream",
                "text": "\r\u001b[1m\u001b[36m⠇\u001b[0m Loading Companies in OpenDART"
              },
              {
                "name": "stdout",
                "output_type": "stream",
                "text": "\r\u001b[1m\u001b[36m⠏\u001b[0m Loading Companies in OpenDART"
              },
              {
                "name": "stdout",
                "output_type": "stream",
                "text": "\r\u001b[1m\u001b[36m⠋\u001b[0m Loading Companies in OpenDART"
              },
              {
                "name": "stdout",
                "output_type": "stream",
                "text": "\r\u001b[1m\u001b[36m⠙\u001b[0m Loading Companies in OpenDART"
              },
              {
                "name": "stdout",
                "output_type": "stream",
                "text": "\r\u001b[1m\u001b[36m⠹\u001b[0m Loading Companies in OpenDART"
              },
              {
                "name": "stdout",
                "output_type": "stream",
                "text": "\r\u001b[1m\u001b[36m⠸\u001b[0m Loading Companies in OpenDART"
              },
              {
                "name": "stdout",
                "output_type": "stream",
                "text": "\r\u001b[1m\u001b[36m⠼\u001b[0m Loading Companies in OpenDART"
              },
              {
                "name": "stdout",
                "output_type": "stream",
                "text": "\r\u001b[1m\u001b[36m⠴\u001b[0m Loading Companies in OpenDART"
              },
              {
                "name": "stdout",
                "output_type": "stream",
                "text": "\r\u001b[1m\u001b[36m⠦\u001b[0m Loading Companies in OpenDART"
              },
              {
                "name": "stdout",
                "output_type": "stream",
                "text": "\r\u001b[1m\u001b[36m⠧\u001b[0m Loading Companies in OpenDART"
              },
              {
                "name": "stdout",
                "output_type": "stream",
                "text": "\r\u001b[1m\u001b[36m⠇\u001b[0m Loading Companies in OpenDART"
              },
              {
                "name": "stdout",
                "output_type": "stream",
                "text": "\r\u001b[1m\u001b[36m⠏\u001b[0m Loading Companies in OpenDART"
              },
              {
                "name": "stdout",
                "output_type": "stream",
                "text": "\r\u001b[1m\u001b[36m⠋\u001b[0m Loading Companies in OpenDART"
              },
              {
                "name": "stdout",
                "output_type": "stream",
                "text": "\r\u001b[1m\u001b[36m⠙\u001b[0m Loading Companies in OpenDART"
              },
              {
                "name": "stdout",
                "output_type": "stream",
                "text": "\r\u001b[1m\u001b[36m⠹\u001b[0m Loading Companies in OpenDART"
              },
              {
                "name": "stdout",
                "output_type": "stream",
                "text": "\r\u001b[1m\u001b[36m⠸\u001b[0m Loading Companies in OpenDART"
              },
              {
                "name": "stdout",
                "output_type": "stream",
                "text": "\r\u001b[1m\u001b[36m⠼\u001b[0m Loading Companies in OpenDART"
              },
              {
                "name": "stdout",
                "output_type": "stream",
                "text": "\r\u001b[1m\u001b[36m⠴\u001b[0m Loading Companies in OpenDART"
              },
              {
                "name": "stdout",
                "output_type": "stream",
                "text": "\r\u001b[1m\u001b[36m⠦\u001b[0m Loading Companies in OpenDART"
              },
              {
                "name": "stdout",
                "output_type": "stream",
                "text": "\r\u001b[1m\u001b[36m⠧\u001b[0m Loading Companies in OpenDART"
              },
              {
                "name": "stdout",
                "output_type": "stream",
                "text": "\r\u001b[1m\u001b[36m⠇\u001b[0m Loading Companies in OpenDART"
              },
              {
                "name": "stdout",
                "output_type": "stream",
                "text": "\r\u001b[1m\u001b[36m⠏\u001b[0m Loading Companies in OpenDART"
              },
              {
                "name": "stdout",
                "output_type": "stream",
                "text": "\r\u001b[1m\u001b[36m⠋\u001b[0m Loading Companies in OpenDART"
              },
              {
                "name": "stdout",
                "output_type": "stream",
                "text": "\r\u001b[1m\u001b[36m⠙\u001b[0m Loading Companies in OpenDART"
              },
              {
                "name": "stdout",
                "output_type": "stream",
                "text": "\r\u001b[1m\u001b[36m⠹\u001b[0m Loading Companies in OpenDART"
              },
              {
                "name": "stdout",
                "output_type": "stream",
                "text": "\r\u001b[1m\u001b[36m⠸\u001b[0m Loading Companies in OpenDART"
              },
              {
                "name": "stdout",
                "output_type": "stream",
                "text": "\r\u001b[1m\u001b[36m⠼\u001b[0m Loading Companies in OpenDART"
              },
              {
                "name": "stdout",
                "output_type": "stream",
                "text": "\r\u001b[1m\u001b[36m⠴\u001b[0m Loading Companies in OpenDART"
              },
              {
                "name": "stdout",
                "output_type": "stream",
                "text": "\r\u001b[1m\u001b[36m⠦\u001b[0m Loading Companies in OpenDART"
              },
              {
                "name": "stdout",
                "output_type": "stream",
                "text": "\r\u001b[1m\u001b[36m⠧\u001b[0m Loading Companies in OpenDART"
              },
              {
                "name": "stdout",
                "output_type": "stream",
                "text": "\r\u001b[1m\u001b[36m⠇\u001b[0m Loading Companies in OpenDART"
              },
              {
                "name": "stdout",
                "output_type": "stream",
                "text": "\r\u001b[1m\u001b[36m⠏\u001b[0m Loading Companies in OpenDART"
              },
              {
                "name": "stdout",
                "output_type": "stream",
                "text": "\r\u001b[1m\u001b[36m⠋\u001b[0m Loading Companies in OpenDART"
              },
              {
                "name": "stdout",
                "output_type": "stream",
                "text": "\r\u001b[1m\u001b[36m⠙\u001b[0m Loading Companies in OpenDART"
              },
              {
                "name": "stdout",
                "output_type": "stream",
                "text": "\r\u001b[1m\u001b[36m⠹\u001b[0m Loading Companies in OpenDART"
              },
              {
                "name": "stdout",
                "output_type": "stream",
                "text": "\r\u001b[1m\u001b[36m⠸\u001b[0m Loading Companies in OpenDART"
              },
              {
                "name": "stdout",
                "output_type": "stream",
                "text": "\r\u001b[1m\u001b[36m⠼\u001b[0m Loading Companies in OpenDART"
              },
              {
                "name": "stdout",
                "output_type": "stream",
                "text": "\r\u001b[1m\u001b[36m⠴\u001b[0m Loading Companies in OpenDART"
              },
              {
                "name": "stdout",
                "output_type": "stream",
                "text": "\r\u001b[1m\u001b[36m⠦\u001b[0m Loading Companies in OpenDART"
              },
              {
                "name": "stdout",
                "output_type": "stream",
                "text": "\r\u001b[1m\u001b[36m⠧\u001b[0m Loading Companies in OpenDART"
              },
              {
                "name": "stdout",
                "output_type": "stream",
                "text": "\r\u001b[1m\u001b[36m⠇\u001b[0m Loading Companies in OpenDART"
              },
              {
                "name": "stdout",
                "output_type": "stream",
                "text": "\r\u001b[1m\u001b[36m⠏\u001b[0m Loading Companies in OpenDART"
              },
              {
                "name": "stdout",
                "output_type": "stream",
                "text": "\r\u001b[1m\u001b[36m⠋\u001b[0m Loading Companies in OpenDART"
              },
              {
                "name": "stdout",
                "output_type": "stream",
                "text": "\r\u001b[1m\u001b[36m⠙\u001b[0m Loading Companies in OpenDART"
              },
              {
                "name": "stdout",
                "output_type": "stream",
                "text": "\r\u001b[1m\u001b[36m⠹\u001b[0m Loading Companies in OpenDART"
              },
              {
                "name": "stdout",
                "output_type": "stream",
                "text": "\r\u001b[1m\u001b[36m⠸\u001b[0m Loading Companies in OpenDART"
              },
              {
                "name": "stdout",
                "output_type": "stream",
                "text": "\r\u001b[1m\u001b[36m⠼\u001b[0m Loading Companies in OpenDART"
              },
              {
                "name": "stdout",
                "output_type": "stream",
                "text": "\r\u001b[1m\u001b[36m⠴\u001b[0m Loading Companies in OpenDART"
              },
              {
                "name": "stdout",
                "output_type": "stream",
                "text": "\r\u001b[1m\u001b[36m⠦\u001b[0m Loading Companies in OpenDART"
              },
              {
                "name": "stdout",
                "output_type": "stream",
                "text": "\r\u001b[1m\u001b[36m⠧\u001b[0m Loading Companies in OpenDART"
              },
              {
                "name": "stdout",
                "output_type": "stream",
                "text": "\r\u001b[1m\u001b[36m⠇\u001b[0m Loading Companies in OpenDART"
              },
              {
                "name": "stdout",
                "output_type": "stream",
                "text": "\r\u001b[1m\u001b[36m⠏\u001b[0m Loading Companies in OpenDART"
              },
              {
                "name": "stdout",
                "output_type": "stream",
                "text": "\r\u001b[1m\u001b[36m⠋\u001b[0m Loading Companies in OpenDART"
              },
              {
                "name": "stdout",
                "output_type": "stream",
                "text": "\r\u001b[1m\u001b[36m⠙\u001b[0m Loading Companies in OpenDART"
              },
              {
                "name": "stdout",
                "output_type": "stream",
                "text": "\r\u001b[1m\u001b[36m⠹\u001b[0m Loading Companies in OpenDART"
              },
              {
                "name": "stdout",
                "output_type": "stream",
                "text": "\r\u001b[1m\u001b[36m⠸\u001b[0m Loading Companies in OpenDART"
              },
              {
                "name": "stdout",
                "output_type": "stream",
                "text": "\r\u001b[1m\u001b[36m⠼\u001b[0m Loading Companies in OpenDART"
              },
              {
                "name": "stdout",
                "output_type": "stream",
                "text": "\r\u001b[1m\u001b[36m⠴\u001b[0m Loading Companies in OpenDART"
              },
              {
                "name": "stdout",
                "output_type": "stream",
                "text": "\r\u001b[1m\u001b[36m⠦\u001b[0m Loading Companies in OpenDART"
              },
              {
                "name": "stdout",
                "output_type": "stream",
                "text": "\r\u001b[1m\u001b[36m⠧\u001b[0m Loading Companies in OpenDART"
              },
              {
                "name": "stdout",
                "output_type": "stream",
                "text": "\r\u001b[1m\u001b[36m⠇\u001b[0m Loading Companies in OpenDART"
              },
              {
                "name": "stdout",
                "output_type": "stream",
                "text": "\r\u001b[1m\u001b[36m⠏\u001b[0m Loading Companies in OpenDART"
              },
              {
                "name": "stdout",
                "output_type": "stream",
                "text": "\r\u001b[1m\u001b[36m⠋\u001b[0m Loading Companies in OpenDART"
              },
              {
                "name": "stdout",
                "output_type": "stream",
                "text": "\r\u001b[1m\u001b[36m⠙\u001b[0m Loading Companies in OpenDART"
              },
              {
                "name": "stdout",
                "output_type": "stream",
                "text": "\r\u001b[1m\u001b[36m⠹\u001b[0m Loading Companies in OpenDART"
              },
              {
                "name": "stdout",
                "output_type": "stream",
                "text": "\r\u001b[1m\u001b[36m⠸\u001b[0m Loading Companies in OpenDART"
              },
              {
                "name": "stdout",
                "output_type": "stream",
                "text": "\r\u001b[1m\u001b[36m⠼\u001b[0m Loading Companies in OpenDART"
              },
              {
                "name": "stdout",
                "output_type": "stream",
                "text": "\r\u001b[1m\u001b[36m⠴\u001b[0m Loading Companies in OpenDART"
              },
              {
                "name": "stdout",
                "output_type": "stream",
                "text": "\r\u001b[1m\u001b[36m⠦\u001b[0m Loading Companies in OpenDART"
              },
              {
                "name": "stdout",
                "output_type": "stream",
                "text": "\r\u001b[1m\u001b[36m⠧\u001b[0m Loading Companies in OpenDART"
              },
              {
                "name": "stdout",
                "output_type": "stream",
                "text": "\r\u001b[1m\u001b[36m⠇\u001b[0m Loading Companies in OpenDART"
              },
              {
                "name": "stdout",
                "output_type": "stream",
                "text": "\r\u001b[1m\u001b[36m⠏\u001b[0m Loading Companies in OpenDART"
              },
              {
                "name": "stdout",
                "output_type": "stream",
                "text": "\r\u001b[1m\u001b[36m⠋\u001b[0m Loading Companies in OpenDART"
              },
              {
                "name": "stdout",
                "output_type": "stream",
                "text": "\r\u001b[1m\u001b[36m⠙\u001b[0m Loading Companies in OpenDART"
              },
              {
                "name": "stdout",
                "output_type": "stream",
                "text": "\r\u001b[1m\u001b[36m⠹\u001b[0m Loading Companies in OpenDART"
              },
              {
                "name": "stdout",
                "output_type": "stream",
                "text": "\r\u001b[1m\u001b[36m⠸\u001b[0m Loading Companies in OpenDART"
              },
              {
                "name": "stdout",
                "output_type": "stream",
                "text": "\r\u001b[1m\u001b[36m⠼\u001b[0m Loading Companies in OpenDART"
              },
              {
                "name": "stdout",
                "output_type": "stream",
                "text": "\r\u001b[1m\u001b[36m⠴\u001b[0m Loading Companies in OpenDART"
              },
              {
                "name": "stdout",
                "output_type": "stream",
                "text": "\r\u001b[1m\u001b[36m⠦\u001b[0m Loading Companies in OpenDART"
              },
              {
                "name": "stdout",
                "output_type": "stream",
                "text": "\r\u001b[1m\u001b[36m⠧\u001b[0m Loading Companies in OpenDART"
              },
              {
                "name": "stdout",
                "output_type": "stream",
                "text": "\r\u001b[1m\u001b[36m⠇\u001b[0m Loading Companies in OpenDART"
              },
              {
                "name": "stdout",
                "output_type": "stream",
                "text": "\r\u001b[1m\u001b[36m⠏\u001b[0m Loading Companies in OpenDART"
              },
              {
                "name": "stdout",
                "output_type": "stream",
                "text": "\r\u001b[1m\u001b[36m⠋\u001b[0m Loading Companies in OpenDART"
              },
              {
                "name": "stdout",
                "output_type": "stream",
                "text": "\r\u001b[1m\u001b[36m⠙\u001b[0m Loading Companies in OpenDART"
              },
              {
                "name": "stdout",
                "output_type": "stream",
                "text": "\r\u001b[1m\u001b[36m⠹\u001b[0m Loading Companies in OpenDART"
              },
              {
                "name": "stdout",
                "output_type": "stream",
                "text": "\r\u001b[1m\u001b[36m⠸\u001b[0m Loading Companies in OpenDART"
              },
              {
                "name": "stdout",
                "output_type": "stream",
                "text": "\r\u001b[1m\u001b[36m⠼\u001b[0m Loading Companies in OpenDART"
              },
              {
                "name": "stdout",
                "output_type": "stream",
                "text": "\r\u001b[1m\u001b[36m⠴\u001b[0m Loading Companies in OpenDART"
              },
              {
                "name": "stdout",
                "output_type": "stream",
                "text": "\r\u001b[1m\u001b[36m⠦\u001b[0m Loading Companies in OpenDART"
              },
              {
                "name": "stdout",
                "output_type": "stream",
                "text": "\r\u001b[1m\u001b[36m⠧\u001b[0m Loading Companies in OpenDART"
              },
              {
                "name": "stdout",
                "output_type": "stream",
                "text": "\r\u001b[1m\u001b[36m⠇\u001b[0m Loading Companies in OpenDART"
              },
              {
                "name": "stdout",
                "output_type": "stream",
                "text": "\r\u001b[1m\u001b[36m⠏\u001b[0m Loading Companies in OpenDART"
              },
              {
                "name": "stdout",
                "output_type": "stream",
                "text": "\r\u001b[1m\u001b[36m⠋\u001b[0m Loading Companies in OpenDART"
              },
              {
                "name": "stdout",
                "output_type": "stream",
                "text": "\r\u001b[1m\u001b[36m⠙\u001b[0m Loading Companies in OpenDART"
              },
              {
                "name": "stdout",
                "output_type": "stream",
                "text": "\r\u001b[1m\u001b[36m⠹\u001b[0m Loading Companies in OpenDART"
              },
              {
                "name": "stdout",
                "output_type": "stream",
                "text": "\r\u001b[1m\u001b[36m⠸\u001b[0m Loading Companies in OpenDART"
              },
              {
                "name": "stdout",
                "output_type": "stream",
                "text": "\r\u001b[1m\u001b[36m⠼\u001b[0m Loading Companies in OpenDART"
              },
              {
                "name": "stdout",
                "output_type": "stream",
                "text": "\r\u001b[1m\u001b[36m⠴\u001b[0m Loading Companies in OpenDART"
              },
              {
                "name": "stdout",
                "output_type": "stream",
                "text": "\r\u001b[1m\u001b[36m⠦\u001b[0m Loading Companies in OpenDART"
              },
              {
                "name": "stdout",
                "output_type": "stream",
                "text": "\r\u001b[1m\u001b[36m⠧\u001b[0m Loading Companies in OpenDART"
              },
              {
                "name": "stdout",
                "output_type": "stream",
                "text": "\r\u001b[1m\u001b[36m⠇\u001b[0m Loading Companies in OpenDART"
              },
              {
                "name": "stdout",
                "output_type": "stream",
                "text": "\r\u001b[1m\u001b[36m⠏\u001b[0m Loading Companies in OpenDART"
              },
              {
                "name": "stdout",
                "output_type": "stream",
                "text": "\r\u001b[1m\u001b[36m⠋\u001b[0m Loading Companies in OpenDART"
              },
              {
                "name": "stdout",
                "output_type": "stream",
                "text": "\r\u001b[1m\u001b[36m⠙\u001b[0m Loading Companies in OpenDART"
              },
              {
                "name": "stdout",
                "output_type": "stream",
                "text": "\r\u001b[1m\u001b[36m⠹\u001b[0m Loading Companies in OpenDART"
              },
              {
                "name": "stdout",
                "output_type": "stream",
                "text": "\r\u001b[1m\u001b[36m⠸\u001b[0m Loading Companies in OpenDART"
              },
              {
                "name": "stdout",
                "output_type": "stream",
                "text": "\r\u001b[1m\u001b[36m⠼\u001b[0m Loading Companies in OpenDART"
              },
              {
                "name": "stdout",
                "output_type": "stream",
                "text": "\r\u001b[1m\u001b[36m⠴\u001b[0m Loading Companies in OpenDART"
              },
              {
                "name": "stdout",
                "output_type": "stream",
                "text": "\r\u001b[1m\u001b[36m⠦\u001b[0m Loading Companies in OpenDART"
              },
              {
                "name": "stdout",
                "output_type": "stream",
                "text": "\r\u001b[1m\u001b[36m⠧\u001b[0m Loading Companies in OpenDART"
              },
              {
                "name": "stdout",
                "output_type": "stream",
                "text": "\r\u001b[1m\u001b[36m⠇\u001b[0m Loading Companies in OpenDART"
              },
              {
                "name": "stdout",
                "output_type": "stream",
                "text": "\r\u001b[1m\u001b[36m⠏\u001b[0m Loading Companies in OpenDART"
              },
              {
                "name": "stdout",
                "output_type": "stream",
                "text": "\r\u001b[1m\u001b[36m⠋\u001b[0m Loading Companies in OpenDART"
              },
              {
                "name": "stdout",
                "output_type": "stream",
                "text": "\r\u001b[1m\u001b[36m⠙\u001b[0m Loading Companies in OpenDART"
              },
              {
                "name": "stdout",
                "output_type": "stream",
                "text": "\r\u001b[1m\u001b[36m⠹\u001b[0m Loading Companies in OpenDART"
              },
              {
                "name": "stdout",
                "output_type": "stream",
                "text": "\r\u001b[1m\u001b[36m⠸\u001b[0m Loading Companies in OpenDART"
              },
              {
                "name": "stdout",
                "output_type": "stream",
                "text": "\r\u001b[1m\u001b[36m⠼\u001b[0m Loading Companies in OpenDART"
              },
              {
                "name": "stdout",
                "output_type": "stream",
                "text": "\r\u001b[1m\u001b[36m⠴\u001b[0m Loading Companies in OpenDART"
              },
              {
                "name": "stdout",
                "output_type": "stream",
                "text": "\r\u001b[1m\u001b[36m⠦\u001b[0m Loading Companies in OpenDART"
              },
              {
                "name": "stdout",
                "output_type": "stream",
                "text": "\r\u001b[1m\u001b[36m⠧\u001b[0m Loading Companies in OpenDART"
              },
              {
                "name": "stdout",
                "output_type": "stream",
                "text": "\r\u001b[1m\u001b[36m⠇\u001b[0m Loading Companies in OpenDART"
              },
              {
                "name": "stdout",
                "output_type": "stream",
                "text": "\r\u001b[1m\u001b[36m⠏\u001b[0m Loading Companies in OpenDART"
              },
              {
                "name": "stdout",
                "output_type": "stream",
                "text": "\r\u001b[1m\u001b[36m⠋\u001b[0m Loading Companies in OpenDART"
              },
              {
                "name": "stdout",
                "output_type": "stream",
                "text": "\r\u001b[1m\u001b[36m⠙\u001b[0m Loading Companies in OpenDART"
              },
              {
                "name": "stdout",
                "output_type": "stream",
                "text": "\r\u001b[1m\u001b[36m⠹\u001b[0m Loading Companies in OpenDART"
              },
              {
                "name": "stdout",
                "output_type": "stream",
                "text": "\r\u001b[1m\u001b[36m⠸\u001b[0m Loading Companies in OpenDART"
              },
              {
                "name": "stdout",
                "output_type": "stream",
                "text": "\r\u001b[1m\u001b[36m⠼\u001b[0m Loading Companies in OpenDART"
              },
              {
                "name": "stdout",
                "output_type": "stream",
                "text": "\r\u001b[1m\u001b[36m⠴\u001b[0m Loading Companies in OpenDART"
              },
              {
                "name": "stdout",
                "output_type": "stream",
                "text": "\r\u001b[1m\u001b[36m⠦\u001b[0m Loading Companies in OpenDART"
              },
              {
                "name": "stdout",
                "output_type": "stream",
                "text": "\r\u001b[1m\u001b[36m⠧\u001b[0m Loading Companies in OpenDART"
              },
              {
                "name": "stdout",
                "output_type": "stream",
                "text": "\r\u001b[1m\u001b[36m⠇\u001b[0m Loading Companies in OpenDART"
              },
              {
                "name": "stdout",
                "output_type": "stream",
                "text": "\r\u001b[1m\u001b[36m⠏\u001b[0m Loading Companies in OpenDART"
              },
              {
                "name": "stdout",
                "output_type": "stream",
                "text": "\r\u001b[1m\u001b[36m⠋\u001b[0m Loading Companies in OpenDART"
              },
              {
                "name": "stdout",
                "output_type": "stream",
                "text": "\r\u001b[1m\u001b[36m⠙\u001b[0m Loading Companies in OpenDART"
              },
              {
                "name": "stdout",
                "output_type": "stream",
                "text": "\r\u001b[1m\u001b[36m⠹\u001b[0m Loading Companies in OpenDART"
              },
              {
                "name": "stdout",
                "output_type": "stream",
                "text": "\r\u001b[1m\u001b[36m⠸\u001b[0m Loading Companies in OpenDART"
              },
              {
                "name": "stdout",
                "output_type": "stream",
                "text": "\r\u001b[1m\u001b[36m⠼\u001b[0m Loading Companies in OpenDART"
              },
              {
                "name": "stdout",
                "output_type": "stream",
                "text": "\r\u001b[1m\u001b[36m⠴\u001b[0m Loading Companies in OpenDART"
              },
              {
                "name": "stdout",
                "output_type": "stream",
                "text": "\r\u001b[1m\u001b[36m⠦\u001b[0m Loading Companies in OpenDART"
              },
              {
                "name": "stdout",
                "output_type": "stream",
                "text": "\r\u001b[1m\u001b[36m⠧\u001b[0m Loading Companies in OpenDART"
              },
              {
                "name": "stdout",
                "output_type": "stream",
                "text": "\r\u001b[1m\u001b[36m⠇\u001b[0m Loading Companies in OpenDART"
              },
              {
                "name": "stdout",
                "output_type": "stream",
                "text": "\r\u001b[1m\u001b[36m⠏\u001b[0m Loading Companies in OpenDART"
              },
              {
                "name": "stdout",
                "output_type": "stream",
                "text": "\r\u001b[1m\u001b[36m⠋\u001b[0m Loading Companies in OpenDART"
              },
              {
                "name": "stdout",
                "output_type": "stream",
                "text": "\r\u001b[1m\u001b[36m⠙\u001b[0m Loading Companies in OpenDART"
              },
              {
                "name": "stdout",
                "output_type": "stream",
                "text": "\r\u001b[1m\u001b[36m⠹\u001b[0m Loading Companies in OpenDART"
              },
              {
                "name": "stdout",
                "output_type": "stream",
                "text": "\r\u001b[1m\u001b[36m⠸\u001b[0m Loading Companies in OpenDART"
              },
              {
                "name": "stdout",
                "output_type": "stream",
                "text": "\r\u001b[1m\u001b[36m⠼\u001b[0m Loading Companies in OpenDART"
              },
              {
                "name": "stdout",
                "output_type": "stream",
                "text": "\r\u001b[1m\u001b[36m⠴\u001b[0m Loading Companies in OpenDART"
              },
              {
                "name": "stdout",
                "output_type": "stream",
                "text": "\r\u001b[1m\u001b[36m⠦\u001b[0m Loading Companies in OpenDART"
              },
              {
                "name": "stdout",
                "output_type": "stream",
                "text": "\r\u001b[1m\u001b[36m⠧\u001b[0m Loading Companies in OpenDART"
              },
              {
                "name": "stdout",
                "output_type": "stream",
                "text": "\r\u001b[1m\u001b[36m⠇\u001b[0m Loading Companies in OpenDART"
              },
              {
                "name": "stdout",
                "output_type": "stream",
                "text": "\r\u001b[1m\u001b[36m⠏\u001b[0m Loading Companies in OpenDART"
              },
              {
                "name": "stdout",
                "output_type": "stream",
                "text": "\r\u001b[1m\u001b[36m⠋\u001b[0m Loading Companies in OpenDART"
              },
              {
                "name": "stdout",
                "output_type": "stream",
                "text": "\r\u001b[1m\u001b[36m⠙\u001b[0m Loading Companies in OpenDART"
              },
              {
                "name": "stdout",
                "output_type": "stream",
                "text": "\r\u001b[1m\u001b[36m⠹\u001b[0m Loading Companies in OpenDART"
              },
              {
                "name": "stdout",
                "output_type": "stream",
                "text": "\r\u001b[1m\u001b[36m⠸\u001b[0m Loading Companies in OpenDART"
              },
              {
                "name": "stdout",
                "output_type": "stream",
                "text": "\r\u001b[1m\u001b[36m⠼\u001b[0m Loading Companies in OpenDART"
              },
              {
                "name": "stdout",
                "output_type": "stream",
                "text": "\r\u001b[1m\u001b[36m⠴\u001b[0m Loading Companies in OpenDART"
              },
              {
                "name": "stdout",
                "output_type": "stream",
                "text": "\r\u001b[1m\u001b[36m⠦\u001b[0m Loading Companies in OpenDART"
              },
              {
                "name": "stdout",
                "output_type": "stream",
                "text": "\r\u001b[1m\u001b[36m⠧\u001b[0m Loading Companies in OpenDART"
              },
              {
                "name": "stdout",
                "output_type": "stream",
                "text": "\r\u001b[1m\u001b[36m⠇\u001b[0m Loading Companies in OpenDART"
              },
              {
                "name": "stdout",
                "output_type": "stream",
                "text": "\r\u001b[1m\u001b[36m⠏\u001b[0m Loading Companies in OpenDART"
              },
              {
                "name": "stdout",
                "output_type": "stream",
                "text": "\r\u001b[1m\u001b[36m⠋\u001b[0m Loading Companies in OpenDART"
              },
              {
                "name": "stdout",
                "output_type": "stream",
                "text": "\r\u001b[1m\u001b[36m⠙\u001b[0m Loading Companies in OpenDART"
              },
              {
                "name": "stdout",
                "output_type": "stream",
                "text": "\r\u001b[1m\u001b[36m⠹\u001b[0m Loading Companies in OpenDART"
              },
              {
                "name": "stdout",
                "output_type": "stream",
                "text": "\r\u001b[1m\u001b[36m⠸\u001b[0m Loading Companies in OpenDART"
              },
              {
                "name": "stdout",
                "output_type": "stream",
                "text": "\r\u001b[1m\u001b[36m⠼\u001b[0m Loading Companies in OpenDART"
              },
              {
                "name": "stdout",
                "output_type": "stream",
                "text": "\r\u001b[1m\u001b[36m⠴\u001b[0m Loading Companies in OpenDART"
              },
              {
                "name": "stdout",
                "output_type": "stream",
                "text": "\r\u001b[1m\u001b[36m⠦\u001b[0m Loading Companies in OpenDART"
              },
              {
                "name": "stdout",
                "output_type": "stream",
                "text": "\r\u001b[1m\u001b[36m⠧\u001b[0m Loading Companies in OpenDART"
              },
              {
                "name": "stdout",
                "output_type": "stream",
                "text": "\r\u001b[1m\u001b[36m⠇\u001b[0m Loading Companies in OpenDART"
              },
              {
                "name": "stdout",
                "output_type": "stream",
                "text": "\r\u001b[1m\u001b[36m⠏\u001b[0m Loading Companies in OpenDART"
              },
              {
                "name": "stdout",
                "output_type": "stream",
                "text": "\r\u001b[1m\u001b[36m⠋\u001b[0m Loading Companies in OpenDART"
              },
              {
                "name": "stdout",
                "output_type": "stream",
                "text": "\r\u001b[1m\u001b[36m⠙\u001b[0m Loading Companies in OpenDART"
              },
              {
                "name": "stdout",
                "output_type": "stream",
                "text": "\r\u001b[1m\u001b[36m⠹\u001b[0m Loading Companies in OpenDART"
              },
              {
                "name": "stdout",
                "output_type": "stream",
                "text": "\r\u001b[1m\u001b[36m⠸\u001b[0m Loading Companies in OpenDART"
              },
              {
                "name": "stdout",
                "output_type": "stream",
                "text": "\r\u001b[1m\u001b[36m⠼\u001b[0m Loading Companies in OpenDART"
              },
              {
                "name": "stdout",
                "output_type": "stream",
                "text": "\r\u001b[1m\u001b[36m⠴\u001b[0m Loading Companies in OpenDART"
              },
              {
                "name": "stdout",
                "output_type": "stream",
                "text": "\r\u001b[1m\u001b[36m⠦\u001b[0m Loading Companies in OpenDART"
              },
              {
                "name": "stdout",
                "output_type": "stream",
                "text": "\r\u001b[1m\u001b[36m⠧\u001b[0m Loading Companies in OpenDART"
              },
              {
                "name": "stdout",
                "output_type": "stream",
                "text": "\r\u001b[1m\u001b[36m⠇\u001b[0m Loading Companies in OpenDART"
              },
              {
                "name": "stdout",
                "output_type": "stream",
                "text": "\r\u001b[1m\u001b[36m⠏\u001b[0m Loading Companies in OpenDART"
              },
              {
                "name": "stdout",
                "output_type": "stream",
                "text": "\r\u001b[1m\u001b[36m⠋\u001b[0m Loading Companies in OpenDART"
              },
              {
                "name": "stdout",
                "output_type": "stream",
                "text": "\r\u001b[1m\u001b[36m⠙\u001b[0m Loading Companies in OpenDART"
              },
              {
                "name": "stdout",
                "output_type": "stream",
                "text": "\r\u001b[1m\u001b[36m⠹\u001b[0m Loading Companies in OpenDART"
              },
              {
                "name": "stdout",
                "output_type": "stream",
                "text": "\r\u001b[1m\u001b[36m⠸\u001b[0m Loading Companies in OpenDART"
              },
              {
                "name": "stdout",
                "output_type": "stream",
                "text": "\r\u001b[1m\u001b[36m⠼\u001b[0m Loading Companies in OpenDART"
              },
              {
                "name": "stdout",
                "output_type": "stream",
                "text": "\r\u001b[1m\u001b[36m⠴\u001b[0m Loading Companies in OpenDART"
              },
              {
                "name": "stdout",
                "output_type": "stream",
                "text": "\r\u001b[1m\u001b[36m⠦\u001b[0m Loading Companies in OpenDART"
              },
              {
                "name": "stdout",
                "output_type": "stream",
                "text": "\r\u001b[1m\u001b[36m⠧\u001b[0m Loading Companies in OpenDART"
              },
              {
                "name": "stdout",
                "output_type": "stream",
                "text": "\r\u001b[1m\u001b[36m⠇\u001b[0m Loading Companies in OpenDART"
              },
              {
                "name": "stdout",
                "output_type": "stream",
                "text": "\r\u001b[1m\u001b[36m⠏\u001b[0m Loading Companies in OpenDART"
              },
              {
                "name": "stdout",
                "output_type": "stream",
                "text": "\r\u001b[1m\u001b[36m⠋\u001b[0m Loading Companies in OpenDART"
              },
              {
                "name": "stdout",
                "output_type": "stream",
                "text": "\r\u001b[1m\u001b[36m⠙\u001b[0m Loading Companies in OpenDART"
              },
              {
                "name": "stdout",
                "output_type": "stream",
                "text": "\r\u001b[1m\u001b[36m⠹\u001b[0m Loading Companies in OpenDART"
              },
              {
                "name": "stdout",
                "output_type": "stream",
                "text": "\r\u001b[1m\u001b[36m⠸\u001b[0m Loading Companies in OpenDART"
              },
              {
                "name": "stdout",
                "output_type": "stream",
                "text": "\r\u001b[1m\u001b[36m⠼\u001b[0m Loading Companies in OpenDART"
              },
              {
                "name": "stdout",
                "output_type": "stream",
                "text": "\r\u001b[1m\u001b[36m⠴\u001b[0m Loading Companies in OpenDART"
              },
              {
                "name": "stdout",
                "output_type": "stream",
                "text": "\r\u001b[1m\u001b[36m⠦\u001b[0m Loading Companies in OpenDART"
              },
              {
                "name": "stdout",
                "output_type": "stream",
                "text": "\r\u001b[1m\u001b[36m⠧\u001b[0m Loading Companies in OpenDART"
              },
              {
                "name": "stdout",
                "output_type": "stream",
                "text": "\r\u001b[1m\u001b[36m⠇\u001b[0m Loading Companies in OpenDART"
              },
              {
                "name": "stdout",
                "output_type": "stream",
                "text": "\r\u001b[1m\u001b[36m⠏\u001b[0m Loading Companies in OpenDART"
              },
              {
                "name": "stdout",
                "output_type": "stream",
                "text": "\r\u001b[1m\u001b[36m⠋\u001b[0m Loading Companies in OpenDART"
              },
              {
                "name": "stdout",
                "output_type": "stream",
                "text": "\r\u001b[1m\u001b[36m⠙\u001b[0m Loading Companies in OpenDART"
              },
              {
                "name": "stdout",
                "output_type": "stream",
                "text": "\r\u001b[1m\u001b[36m⠹\u001b[0m Loading Companies in OpenDART"
              },
              {
                "name": "stdout",
                "output_type": "stream",
                "text": "\r\u001b[1m\u001b[36m⠸\u001b[0m Loading Companies in OpenDART"
              },
              {
                "name": "stdout",
                "output_type": "stream",
                "text": "\r\u001b[1m\u001b[36m⠼\u001b[0m Loading Companies in OpenDART"
              },
              {
                "name": "stdout",
                "output_type": "stream",
                "text": "\r\u001b[1m\u001b[36m⠴\u001b[0m Loading Companies in OpenDART"
              },
              {
                "name": "stdout",
                "output_type": "stream",
                "text": "\r\u001b[1m\u001b[36m⠦\u001b[0m Loading Companies in OpenDART"
              },
              {
                "name": "stdout",
                "output_type": "stream",
                "text": "\r\u001b[1m\u001b[36m⠧\u001b[0m Loading Companies in OpenDART"
              },
              {
                "name": "stdout",
                "output_type": "stream",
                "text": "\r\u001b[1m\u001b[36m⠇\u001b[0m Loading Companies in OpenDART"
              },
              {
                "name": "stdout",
                "output_type": "stream",
                "text": "\r\u001b[1m\u001b[36m⠏\u001b[0m Loading Companies in OpenDART"
              },
              {
                "name": "stdout",
                "output_type": "stream",
                "text": "\r\u001b[1m\u001b[36m⠋\u001b[0m Loading Companies in OpenDART"
              },
              {
                "name": "stdout",
                "output_type": "stream",
                "text": "\r\u001b[1m\u001b[36m⠙\u001b[0m Loading Companies in OpenDART"
              },
              {
                "name": "stdout",
                "output_type": "stream",
                "text": "\r\u001b[1m\u001b[36m⠹\u001b[0m Loading Companies in OpenDART"
              },
              {
                "name": "stdout",
                "output_type": "stream",
                "text": "\r\u001b[1m\u001b[36m⠸\u001b[0m Loading Companies in OpenDART"
              },
              {
                "name": "stdout",
                "output_type": "stream",
                "text": "\r\u001b[1m\u001b[36m⠼\u001b[0m Loading Companies in OpenDART"
              },
              {
                "name": "stdout",
                "output_type": "stream",
                "text": "\r\u001b[1m\u001b[36m⠴\u001b[0m Loading Companies in OpenDART"
              },
              {
                "name": "stdout",
                "output_type": "stream",
                "text": "\r\u001b[1m\u001b[36m⠦\u001b[0m Loading Companies in OpenDART"
              },
              {
                "name": "stdout",
                "output_type": "stream",
                "text": "\r\u001b[1m\u001b[36m⠧\u001b[0m Loading Companies in OpenDART"
              },
              {
                "name": "stdout",
                "output_type": "stream",
                "text": "\r\u001b[1m\u001b[36m⠇\u001b[0m Loading Companies in OpenDART"
              },
              {
                "name": "stdout",
                "output_type": "stream",
                "text": "\r\u001b[1m\u001b[36m⠏\u001b[0m Loading Companies in OpenDART"
              },
              {
                "name": "stdout",
                "output_type": "stream",
                "text": "\r\u001b[1m\u001b[36m⠋\u001b[0m Loading Companies in OpenDART"
              },
              {
                "name": "stdout",
                "output_type": "stream",
                "text": "\r\u001b[1m\u001b[36m⠙\u001b[0m Loading Companies in OpenDART"
              },
              {
                "name": "stdout",
                "output_type": "stream",
                "text": "\r\u001b[1m\u001b[36m⠹\u001b[0m Loading Companies in OpenDART"
              },
              {
                "name": "stdout",
                "output_type": "stream",
                "text": "\r\u001b[1m\u001b[36m⠸\u001b[0m Loading Companies in OpenDART"
              },
              {
                "name": "stdout",
                "output_type": "stream",
                "text": "\r\u001b[1m\u001b[36m⠼\u001b[0m Loading Companies in OpenDART"
              },
              {
                "name": "stdout",
                "output_type": "stream",
                "text": "\r\u001b[1m\u001b[36m⠴\u001b[0m Loading Companies in OpenDART"
              },
              {
                "name": "stdout",
                "output_type": "stream",
                "text": "\r\u001b[1m\u001b[36m⠦\u001b[0m Loading Companies in OpenDART"
              },
              {
                "name": "stdout",
                "output_type": "stream",
                "text": "\r\u001b[1m\u001b[36m⠧\u001b[0m Loading Companies in OpenDART"
              },
              {
                "name": "stdout",
                "output_type": "stream",
                "text": "\r\u001b[1m\u001b[36m⠇\u001b[0m Loading Companies in OpenDART"
              },
              {
                "name": "stdout",
                "output_type": "stream",
                "text": "\r\u001b[1m\u001b[36m⠏\u001b[0m Loading Companies in OpenDART"
              },
              {
                "name": "stdout",
                "output_type": "stream",
                "text": "\r\u001b[1m\u001b[36m⠋\u001b[0m Loading Companies in OpenDART"
              },
              {
                "name": "stdout",
                "output_type": "stream",
                "text": "\r\u001b[1m\u001b[36m⠙\u001b[0m Loading Companies in OpenDART"
              },
              {
                "name": "stdout",
                "output_type": "stream",
                "text": "\r\u001b[1m\u001b[36m⠹\u001b[0m Loading Companies in OpenDART"
              },
              {
                "name": "stdout",
                "output_type": "stream",
                "text": "\r\u001b[1m\u001b[36m⠸\u001b[0m Loading Companies in OpenDART"
              },
              {
                "name": "stdout",
                "output_type": "stream",
                "text": "\r\u001b[1m\u001b[36m⠼\u001b[0m Loading Companies in OpenDART"
              },
              {
                "name": "stdout",
                "output_type": "stream",
                "text": "\r\u001b[1m\u001b[36m⠴\u001b[0m Loading Companies in OpenDART"
              },
              {
                "name": "stdout",
                "output_type": "stream",
                "text": "\r\u001b[1m\u001b[36m⠦\u001b[0m Loading Companies in OpenDART"
              },
              {
                "name": "stdout",
                "output_type": "stream",
                "text": "\r\u001b[1m\u001b[36m⠧\u001b[0m Loading Companies in OpenDART"
              },
              {
                "name": "stdout",
                "output_type": "stream",
                "text": "\r\u001b[1m\u001b[36m⠇\u001b[0m Loading Companies in OpenDART"
              },
              {
                "name": "stdout",
                "output_type": "stream",
                "text": "\r\u001b[1m\u001b[36m⠏\u001b[0m Loading Companies in OpenDART"
              },
              {
                "name": "stdout",
                "output_type": "stream",
                "text": "\r\u001b[1m\u001b[36m⠋\u001b[0m Loading Companies in OpenDART"
              },
              {
                "name": "stdout",
                "output_type": "stream",
                "text": "\r\u001b[1m\u001b[36m⠙\u001b[0m Loading Companies in OpenDART"
              },
              {
                "name": "stdout",
                "output_type": "stream",
                "text": "\r\u001b[1m\u001b[36m⠹\u001b[0m Loading Companies in OpenDART"
              },
              {
                "name": "stdout",
                "output_type": "stream",
                "text": "\r\u001b[1m\u001b[36m⠸\u001b[0m Loading Companies in OpenDART"
              },
              {
                "name": "stdout",
                "output_type": "stream",
                "text": "\r\u001b[1m\u001b[36m⠼\u001b[0m Loading Companies in OpenDART"
              },
              {
                "name": "stdout",
                "output_type": "stream",
                "text": "\r\u001b[1m\u001b[36m⠴\u001b[0m Loading Companies in OpenDART"
              },
              {
                "name": "stdout",
                "output_type": "stream",
                "text": "\r\u001b[1m\u001b[36m⠦\u001b[0m Loading Companies in OpenDART"
              },
              {
                "name": "stdout",
                "output_type": "stream",
                "text": "\r\u001b[1m\u001b[36m⠧\u001b[0m Loading Companies in OpenDART"
              },
              {
                "name": "stdout",
                "output_type": "stream",
                "text": "\r\u001b[1m\u001b[36m⠇\u001b[0m Loading Companies in OpenDART"
              },
              {
                "name": "stdout",
                "output_type": "stream",
                "text": "\r\u001b[1m\u001b[36m⠏\u001b[0m Loading Companies in OpenDART"
              },
              {
                "name": "stdout",
                "output_type": "stream",
                "text": "\r\u001b[1m\u001b[36m⠋\u001b[0m Loading Companies in OpenDART"
              },
              {
                "name": "stdout",
                "output_type": "stream",
                "text": "\r\u001b[1m\u001b[36m⠙\u001b[0m Loading Companies in OpenDART"
              },
              {
                "name": "stdout",
                "output_type": "stream",
                "text": "\r\u001b[1m\u001b[36m⠹\u001b[0m Loading Companies in OpenDART"
              },
              {
                "name": "stdout",
                "output_type": "stream",
                "text": "\r\u001b[1m\u001b[36m⠸\u001b[0m Loading Companies in OpenDART"
              },
              {
                "name": "stdout",
                "output_type": "stream",
                "text": "\r\u001b[1m\u001b[36m⠼\u001b[0m Loading Companies in OpenDART"
              },
              {
                "name": "stdout",
                "output_type": "stream",
                "text": "\r\u001b[1m\u001b[36m⠴\u001b[0m Loading Companies in OpenDART"
              },
              {
                "name": "stdout",
                "output_type": "stream",
                "text": "\r\u001b[1m\u001b[36m⠦\u001b[0m Loading Companies in OpenDART"
              },
              {
                "name": "stdout",
                "output_type": "stream",
                "text": "\r\u001b[1m\u001b[36m⠧\u001b[0m Loading Companies in OpenDART"
              }
            ]
          }
        },
        "71c1fd65484d4a8db2649ff19192bd5b": {
          "model_module": "@jupyter-widgets/base",
          "model_name": "LayoutModel",
          "state": {
            "_model_module": "@jupyter-widgets/base",
            "_model_module_version": "1.2.0",
            "_model_name": "LayoutModel",
            "_view_count": null,
            "_view_module": "@jupyter-widgets/base",
            "_view_module_version": "1.2.0",
            "_view_name": "LayoutView",
            "align_content": null,
            "align_items": null,
            "align_self": null,
            "border": null,
            "bottom": null,
            "display": null,
            "flex": null,
            "flex_flow": null,
            "grid_area": null,
            "grid_auto_columns": null,
            "grid_auto_flow": null,
            "grid_auto_rows": null,
            "grid_column": null,
            "grid_gap": null,
            "grid_row": null,
            "grid_template_areas": null,
            "grid_template_columns": null,
            "grid_template_rows": null,
            "height": null,
            "justify_content": null,
            "justify_items": null,
            "left": null,
            "margin": null,
            "max_height": null,
            "max_width": null,
            "min_height": null,
            "min_width": null,
            "object_fit": null,
            "object_position": null,
            "order": null,
            "overflow": null,
            "overflow_x": null,
            "overflow_y": null,
            "padding": null,
            "right": null,
            "top": null,
            "visibility": null,
            "width": null
          }
        },
        "5883e0ae79a0436dad6ca20c4d3ad08b": {
          "model_module": "@jupyter-widgets/output",
          "model_name": "OutputModel",
          "state": {
            "_dom_classes": [],
            "_model_module": "@jupyter-widgets/output",
            "_model_module_version": "1.0.0",
            "_model_name": "OutputModel",
            "_view_count": null,
            "_view_module": "@jupyter-widgets/output",
            "_view_module_version": "1.0.0",
            "_view_name": "OutputView",
            "layout": "IPY_MODEL_b2c9b253f39448d786ac4abef9a2ee2a",
            "msg_id": "",
            "outputs": [
              {
                "name": "stdout",
                "output_type": "stream",
                "text": "\r\u001b[1m\u001b[36m⠋\u001b[0m Downloading CORPCODE.zip"
              },
              {
                "name": "stdout",
                "output_type": "stream",
                "text": "\r\u001b[1m\u001b[36m⠙\u001b[0m Downloading CORPCODE.zip"
              },
              {
                "name": "stdout",
                "output_type": "stream",
                "text": "\r\u001b[1m\u001b[36m⠹\u001b[0m Downloading CORPCODE.zip"
              },
              {
                "name": "stdout",
                "output_type": "stream",
                "text": "\r\u001b[1m\u001b[36m⠸\u001b[0m Downloading CORPCODE.zip"
              },
              {
                "name": "stdout",
                "output_type": "stream",
                "text": "\r\u001b[1m\u001b[36m⠼\u001b[0m Downloading CORPCODE.zip"
              },
              {
                "name": "stdout",
                "output_type": "stream",
                "text": "\r\u001b[1m\u001b[36m⠴\u001b[0m Downloading CORPCODE.zip"
              },
              {
                "name": "stdout",
                "output_type": "stream",
                "text": "\r\u001b[1m\u001b[36m⠦\u001b[0m Downloading CORPCODE.zip"
              },
              {
                "name": "stdout",
                "output_type": "stream",
                "text": "\r\u001b[1m\u001b[36m⠧\u001b[0m Downloading CORPCODE.zip"
              },
              {
                "name": "stdout",
                "output_type": "stream",
                "text": "\r\u001b[1m\u001b[36m⠇\u001b[0m Downloading CORPCODE.zip"
              },
              {
                "name": "stdout",
                "output_type": "stream",
                "text": "\r\u001b[1m\u001b[36m⠏\u001b[0m Downloading CORPCODE.zip"
              },
              {
                "name": "stdout",
                "output_type": "stream",
                "text": "\r\u001b[1m\u001b[36m⠋\u001b[0m Downloading CORPCODE.zip"
              },
              {
                "name": "stdout",
                "output_type": "stream",
                "text": "\r\u001b[1m\u001b[36m⠙\u001b[0m Downloading CORPCODE.zip"
              },
              {
                "name": "stdout",
                "output_type": "stream",
                "text": "\r\u001b[1m\u001b[36m⠹\u001b[0m Downloading CORPCODE.zip"
              },
              {
                "name": "stdout",
                "output_type": "stream",
                "text": "\r\u001b[1m\u001b[36m⠸\u001b[0m Downloading CORPCODE.zip"
              },
              {
                "name": "stdout",
                "output_type": "stream",
                "text": "\r\u001b[1m\u001b[36m⠼\u001b[0m Downloading CORPCODE.zip"
              },
              {
                "name": "stdout",
                "output_type": "stream",
                "text": "\r\u001b[1m\u001b[36m⠴\u001b[0m Downloading CORPCODE.zip"
              },
              {
                "name": "stdout",
                "output_type": "stream",
                "text": "\r\u001b[1m\u001b[36m⠦\u001b[0m Downloading CORPCODE.zip"
              },
              {
                "name": "stdout",
                "output_type": "stream",
                "text": "\r\u001b[1m\u001b[36m⠧\u001b[0m Downloading CORPCODE.zip"
              },
              {
                "name": "stdout",
                "output_type": "stream",
                "text": "\r\u001b[1m\u001b[36m⠇\u001b[0m Downloading CORPCODE.zip"
              },
              {
                "name": "stdout",
                "output_type": "stream",
                "text": "\r\u001b[1m\u001b[36m⠏\u001b[0m Downloading CORPCODE.zip"
              },
              {
                "name": "stdout",
                "output_type": "stream",
                "text": "\r\u001b[1m\u001b[36m⠋\u001b[0m Downloading CORPCODE.zip"
              },
              {
                "name": "stdout",
                "output_type": "stream",
                "text": "\r\u001b[1m\u001b[36m⠙\u001b[0m Downloading CORPCODE.zip"
              },
              {
                "name": "stdout",
                "output_type": "stream",
                "text": "\r\u001b[1m\u001b[36m⠹\u001b[0m Downloading CORPCODE.zip"
              },
              {
                "name": "stdout",
                "output_type": "stream",
                "text": "\r\u001b[1m\u001b[36m⠸\u001b[0m Downloading CORPCODE.zip"
              },
              {
                "name": "stdout",
                "output_type": "stream",
                "text": "\r\u001b[1m\u001b[36m⠼\u001b[0m Downloading CORPCODE.zip"
              },
              {
                "name": "stdout",
                "output_type": "stream",
                "text": "\r\u001b[1m\u001b[36m⠴\u001b[0m Downloading CORPCODE.zip"
              },
              {
                "name": "stdout",
                "output_type": "stream",
                "text": "\r\u001b[1m\u001b[36m⠦\u001b[0m Downloading CORPCODE.zip"
              },
              {
                "name": "stdout",
                "output_type": "stream",
                "text": "\r\u001b[1m\u001b[36m⠧\u001b[0m Downloading CORPCODE.zip"
              },
              {
                "name": "stdout",
                "output_type": "stream",
                "text": "\r\u001b[1m\u001b[36m⠇\u001b[0m Downloading CORPCODE.zip"
              },
              {
                "name": "stdout",
                "output_type": "stream",
                "text": "\r\u001b[1m\u001b[36m⠏\u001b[0m Downloading CORPCODE.zip"
              },
              {
                "name": "stdout",
                "output_type": "stream",
                "text": "\r\u001b[1m\u001b[36m⠋\u001b[0m Downloading CORPCODE.zip"
              },
              {
                "name": "stdout",
                "output_type": "stream",
                "text": "\r\u001b[1m\u001b[36m⠙\u001b[0m Downloading CORPCODE.zip"
              },
              {
                "name": "stdout",
                "output_type": "stream",
                "text": "\r\u001b[1m\u001b[36m⠹\u001b[0m Downloading CORPCODE.zip"
              },
              {
                "name": "stdout",
                "output_type": "stream",
                "text": "\r\u001b[1m\u001b[36m⠸\u001b[0m Downloading CORPCODE.zip"
              },
              {
                "name": "stdout",
                "output_type": "stream",
                "text": "\r\u001b[1m\u001b[36m⠼\u001b[0m Downloading CORPCODE.zip"
              },
              {
                "name": "stdout",
                "output_type": "stream",
                "text": "\r\u001b[1m\u001b[36m⠴\u001b[0m Downloading CORPCODE.zip"
              },
              {
                "name": "stdout",
                "output_type": "stream",
                "text": "\r\u001b[1m\u001b[36m⠦\u001b[0m Downloading CORPCODE.zip"
              },
              {
                "name": "stdout",
                "output_type": "stream",
                "text": "\r\u001b[1m\u001b[36m⠧\u001b[0m Downloading CORPCODE.zip"
              },
              {
                "name": "stdout",
                "output_type": "stream",
                "text": "\r\u001b[1m\u001b[36m⠇\u001b[0m Downloading CORPCODE.zip"
              },
              {
                "name": "stdout",
                "output_type": "stream",
                "text": "\r\u001b[1m\u001b[36m⠏\u001b[0m Downloading CORPCODE.zip"
              },
              {
                "name": "stdout",
                "output_type": "stream",
                "text": "\r\u001b[1m\u001b[36m⠋\u001b[0m Downloading CORPCODE.zip"
              },
              {
                "name": "stdout",
                "output_type": "stream",
                "text": "\r\u001b[1m\u001b[36m⠙\u001b[0m Downloading CORPCODE.zip"
              },
              {
                "name": "stdout",
                "output_type": "stream",
                "text": "\r\u001b[1m\u001b[36m⠹\u001b[0m Downloading CORPCODE.zip"
              },
              {
                "name": "stdout",
                "output_type": "stream",
                "text": "\r\u001b[1m\u001b[36m⠸\u001b[0m Downloading CORPCODE.zip"
              },
              {
                "name": "stdout",
                "output_type": "stream",
                "text": "\r\u001b[1m\u001b[36m⠼\u001b[0m Downloading CORPCODE.zip"
              },
              {
                "name": "stdout",
                "output_type": "stream",
                "text": "\r\u001b[1m\u001b[36m⠴\u001b[0m Downloading CORPCODE.zip"
              },
              {
                "name": "stdout",
                "output_type": "stream",
                "text": "\r\u001b[1m\u001b[36m⠦\u001b[0m Downloading CORPCODE.zip"
              },
              {
                "name": "stdout",
                "output_type": "stream",
                "text": "\r\u001b[1m\u001b[36m⠧\u001b[0m Downloading CORPCODE.zip"
              },
              {
                "name": "stdout",
                "output_type": "stream",
                "text": "\r\u001b[1m\u001b[36m⠇\u001b[0m Downloading CORPCODE.zip"
              },
              {
                "name": "stdout",
                "output_type": "stream",
                "text": "\r\u001b[1m\u001b[36m⠏\u001b[0m Downloading CORPCODE.zip"
              },
              {
                "name": "stdout",
                "output_type": "stream",
                "text": "\r\u001b[1m\u001b[36m⠋\u001b[0m Downloading CORPCODE.zip"
              },
              {
                "name": "stdout",
                "output_type": "stream",
                "text": "\r\u001b[1m\u001b[36m⠙\u001b[0m Downloading CORPCODE.zip"
              },
              {
                "name": "stdout",
                "output_type": "stream",
                "text": "\r\u001b[1m\u001b[36m⠹\u001b[0m Downloading CORPCODE.zip"
              },
              {
                "name": "stdout",
                "output_type": "stream",
                "text": "\r\u001b[1m\u001b[36m⠸\u001b[0m Downloading CORPCODE.zip"
              },
              {
                "name": "stdout",
                "output_type": "stream",
                "text": "\r\u001b[1m\u001b[36m⠼\u001b[0m Downloading CORPCODE.zip"
              },
              {
                "name": "stdout",
                "output_type": "stream",
                "text": "\r\u001b[1m\u001b[36m⠴\u001b[0m Downloading CORPCODE.zip"
              },
              {
                "name": "stdout",
                "output_type": "stream",
                "text": "\r\u001b[1m\u001b[36m⠦\u001b[0m Downloading CORPCODE.zip"
              },
              {
                "name": "stdout",
                "output_type": "stream",
                "text": "\r\u001b[1m\u001b[36m⠧\u001b[0m Downloading CORPCODE.zip"
              },
              {
                "name": "stdout",
                "output_type": "stream",
                "text": "\r\u001b[1m\u001b[36m⠇\u001b[0m Downloading CORPCODE.zip"
              },
              {
                "name": "stdout",
                "output_type": "stream",
                "text": "\r\u001b[1m\u001b[36m⠏\u001b[0m Downloading CORPCODE.zip"
              },
              {
                "name": "stdout",
                "output_type": "stream",
                "text": "\r\u001b[1m\u001b[36m⠋\u001b[0m Downloading CORPCODE.zip"
              },
              {
                "name": "stdout",
                "output_type": "stream",
                "text": "\r\u001b[1m\u001b[36m⠙\u001b[0m Downloading CORPCODE.zip"
              },
              {
                "name": "stdout",
                "output_type": "stream",
                "text": "\r\u001b[1m\u001b[36m⠹\u001b[0m Downloading CORPCODE.zip"
              },
              {
                "name": "stdout",
                "output_type": "stream",
                "text": "\r\u001b[1m\u001b[36m⠸\u001b[0m Downloading CORPCODE.zip"
              },
              {
                "name": "stdout",
                "output_type": "stream",
                "text": "\r\u001b[1m\u001b[36m⠼\u001b[0m Downloading CORPCODE.zip"
              },
              {
                "name": "stdout",
                "output_type": "stream",
                "text": "\r\u001b[1m\u001b[36m⠴\u001b[0m Downloading CORPCODE.zip"
              },
              {
                "name": "stdout",
                "output_type": "stream",
                "text": "\r\u001b[1m\u001b[36m⠦\u001b[0m Downloading CORPCODE.zip"
              },
              {
                "name": "stdout",
                "output_type": "stream",
                "text": "\r\u001b[1m\u001b[36m⠧\u001b[0m Downloading CORPCODE.zip"
              },
              {
                "name": "stdout",
                "output_type": "stream",
                "text": "\r\u001b[1m\u001b[36m⠇\u001b[0m Downloading CORPCODE.zip"
              },
              {
                "name": "stdout",
                "output_type": "stream",
                "text": "\r\u001b[1m\u001b[36m⠏\u001b[0m Downloading CORPCODE.zip"
              },
              {
                "name": "stdout",
                "output_type": "stream",
                "text": "\r\u001b[1m\u001b[36m⠋\u001b[0m Downloading CORPCODE.zip"
              },
              {
                "name": "stdout",
                "output_type": "stream",
                "text": "\r\u001b[1m\u001b[36m⠙\u001b[0m Downloading CORPCODE.zip"
              },
              {
                "name": "stdout",
                "output_type": "stream",
                "text": "\r\u001b[1m\u001b[36m⠹\u001b[0m Downloading CORPCODE.zip"
              },
              {
                "name": "stdout",
                "output_type": "stream",
                "text": "\r\u001b[1m\u001b[36m⠸\u001b[0m Downloading CORPCODE.zip"
              },
              {
                "name": "stdout",
                "output_type": "stream",
                "text": "\r\u001b[1m\u001b[36m⠼\u001b[0m Downloading CORPCODE.zip"
              },
              {
                "name": "stdout",
                "output_type": "stream",
                "text": "\r\u001b[1m\u001b[36m⠴\u001b[0m Downloading CORPCODE.zip"
              },
              {
                "name": "stdout",
                "output_type": "stream",
                "text": "\r\u001b[1m\u001b[36m⠦\u001b[0m Downloading CORPCODE.zip"
              },
              {
                "name": "stdout",
                "output_type": "stream",
                "text": "\r\u001b[1m\u001b[36m⠧\u001b[0m Downloading CORPCODE.zip"
              },
              {
                "name": "stdout",
                "output_type": "stream",
                "text": "\r\u001b[1m\u001b[36m⠇\u001b[0m Downloading CORPCODE.zip"
              },
              {
                "name": "stdout",
                "output_type": "stream",
                "text": "\r\u001b[1m\u001b[36m⠏\u001b[0m Downloading CORPCODE.zip"
              },
              {
                "name": "stdout",
                "output_type": "stream",
                "text": "\r\u001b[1m\u001b[36m⠋\u001b[0m Downloading CORPCODE.zip"
              },
              {
                "name": "stdout",
                "output_type": "stream",
                "text": "\r\u001b[1m\u001b[36m⠙\u001b[0m Downloading CORPCODE.zip"
              },
              {
                "name": "stdout",
                "output_type": "stream",
                "text": "\r\u001b[1m\u001b[36m⠹\u001b[0m Downloading CORPCODE.zip"
              },
              {
                "name": "stdout",
                "output_type": "stream",
                "text": "\r\u001b[1m\u001b[36m⠸\u001b[0m Downloading CORPCODE.zip"
              },
              {
                "name": "stdout",
                "output_type": "stream",
                "text": "\r\u001b[1m\u001b[36m⠼\u001b[0m Downloading CORPCODE.zip"
              },
              {
                "name": "stdout",
                "output_type": "stream",
                "text": "\r\u001b[1m\u001b[36m⠴\u001b[0m Downloading CORPCODE.zip"
              },
              {
                "name": "stdout",
                "output_type": "stream",
                "text": "\r\u001b[1m\u001b[36m⠦\u001b[0m Downloading CORPCODE.zip"
              },
              {
                "name": "stdout",
                "output_type": "stream",
                "text": "\r\u001b[1m\u001b[36m⠧\u001b[0m Downloading CORPCODE.zip"
              },
              {
                "name": "stdout",
                "output_type": "stream",
                "text": "\r\u001b[1m\u001b[36m⠇\u001b[0m Downloading CORPCODE.zip"
              },
              {
                "name": "stdout",
                "output_type": "stream",
                "text": "\r\u001b[1m\u001b[36m⠏\u001b[0m Downloading CORPCODE.zip"
              },
              {
                "name": "stdout",
                "output_type": "stream",
                "text": "\r\u001b[1m\u001b[36m⠋\u001b[0m Downloading CORPCODE.zip"
              },
              {
                "name": "stdout",
                "output_type": "stream",
                "text": "\r\u001b[1m\u001b[36m⠙\u001b[0m Downloading CORPCODE.zip"
              },
              {
                "name": "stdout",
                "output_type": "stream",
                "text": "\r\u001b[1m\u001b[36m⠹\u001b[0m Downloading CORPCODE.zip"
              },
              {
                "name": "stdout",
                "output_type": "stream",
                "text": "\r\u001b[1m\u001b[36m⠸\u001b[0m Downloading CORPCODE.zip"
              },
              {
                "name": "stdout",
                "output_type": "stream",
                "text": "\r\u001b[1m\u001b[36m⠼\u001b[0m Downloading CORPCODE.zip"
              },
              {
                "name": "stdout",
                "output_type": "stream",
                "text": "\r\u001b[1m\u001b[36m⠴\u001b[0m Downloading CORPCODE.zip"
              },
              {
                "name": "stdout",
                "output_type": "stream",
                "text": "\r\u001b[1m\u001b[36m⠦\u001b[0m Downloading CORPCODE.zip"
              },
              {
                "name": "stdout",
                "output_type": "stream",
                "text": "\r\u001b[1m\u001b[36m⠧\u001b[0m Downloading CORPCODE.zip"
              },
              {
                "name": "stdout",
                "output_type": "stream",
                "text": "\r\u001b[1m\u001b[36m⠇\u001b[0m Downloading CORPCODE.zip"
              },
              {
                "name": "stdout",
                "output_type": "stream",
                "text": "\r\u001b[1m\u001b[36m⠏\u001b[0m Downloading CORPCODE.zip"
              },
              {
                "name": "stdout",
                "output_type": "stream",
                "text": "\r\u001b[1m\u001b[36m⠋\u001b[0m Downloading CORPCODE.zip"
              },
              {
                "name": "stdout",
                "output_type": "stream",
                "text": "\r\u001b[1m\u001b[36m⠙\u001b[0m Downloading CORPCODE.zip"
              },
              {
                "name": "stdout",
                "output_type": "stream",
                "text": "\r\u001b[1m\u001b[36m⠹\u001b[0m Downloading CORPCODE.zip"
              },
              {
                "name": "stdout",
                "output_type": "stream",
                "text": "\r\u001b[1m\u001b[36m⠸\u001b[0m Downloading CORPCODE.zip"
              },
              {
                "name": "stdout",
                "output_type": "stream",
                "text": "\r\u001b[1m\u001b[36m⠼\u001b[0m Downloading CORPCODE.zip"
              },
              {
                "name": "stdout",
                "output_type": "stream",
                "text": "\r\u001b[1m\u001b[36m⠴\u001b[0m Downloading CORPCODE.zip"
              },
              {
                "name": "stdout",
                "output_type": "stream",
                "text": "\r\u001b[1m\u001b[36m⠦\u001b[0m Downloading CORPCODE.zip"
              },
              {
                "name": "stdout",
                "output_type": "stream",
                "text": "\r\u001b[1m\u001b[36m⠧\u001b[0m Downloading CORPCODE.zip"
              },
              {
                "name": "stdout",
                "output_type": "stream",
                "text": "\r\u001b[1m\u001b[36m⠇\u001b[0m Downloading CORPCODE.zip"
              },
              {
                "name": "stdout",
                "output_type": "stream",
                "text": "\r\u001b[1m\u001b[36m⠏\u001b[0m Downloading CORPCODE.zip"
              },
              {
                "name": "stdout",
                "output_type": "stream",
                "text": "\r\u001b[1m\u001b[36m⠋\u001b[0m Downloading CORPCODE.zip"
              },
              {
                "name": "stdout",
                "output_type": "stream",
                "text": "\r\u001b[1m\u001b[36m⠙\u001b[0m Downloading CORPCODE.zip"
              },
              {
                "name": "stdout",
                "output_type": "stream",
                "text": "\r\u001b[1m\u001b[36m⠹\u001b[0m Downloading CORPCODE.zip"
              },
              {
                "name": "stdout",
                "output_type": "stream",
                "text": "\r\u001b[1m\u001b[36m⠸\u001b[0m Downloading CORPCODE.zip"
              },
              {
                "name": "stdout",
                "output_type": "stream",
                "text": "\r\u001b[1m\u001b[36m⠼\u001b[0m Downloading CORPCODE.zip"
              },
              {
                "name": "stdout",
                "output_type": "stream",
                "text": "\r\u001b[1m\u001b[36m⠴\u001b[0m Downloading CORPCODE.zip"
              },
              {
                "name": "stdout",
                "output_type": "stream",
                "text": "\r\u001b[1m\u001b[36m⠦\u001b[0m Downloading CORPCODE.zip"
              },
              {
                "name": "stdout",
                "output_type": "stream",
                "text": "\r\u001b[1m\u001b[36m⠧\u001b[0m Downloading CORPCODE.zip"
              },
              {
                "name": "stdout",
                "output_type": "stream",
                "text": "\r\u001b[1m\u001b[36m⠇\u001b[0m Downloading CORPCODE.zip"
              },
              {
                "name": "stdout",
                "output_type": "stream",
                "text": "\r\u001b[1m\u001b[36m⠏\u001b[0m Downloading CORPCODE.zip"
              },
              {
                "name": "stdout",
                "output_type": "stream",
                "text": "\r\u001b[1m\u001b[36m⠋\u001b[0m Downloading CORPCODE.zip"
              },
              {
                "name": "stdout",
                "output_type": "stream",
                "text": "\r\u001b[1m\u001b[36m⠙\u001b[0m Downloading CORPCODE.zip"
              },
              {
                "name": "stdout",
                "output_type": "stream",
                "text": "\r\u001b[1m\u001b[36m⠹\u001b[0m Downloading CORPCODE.zip"
              },
              {
                "name": "stdout",
                "output_type": "stream",
                "text": "\r\u001b[1m\u001b[36m⠸\u001b[0m Downloading CORPCODE.zip"
              },
              {
                "name": "stdout",
                "output_type": "stream",
                "text": "\r\u001b[1m\u001b[36m⠼\u001b[0m Downloading CORPCODE.zip"
              },
              {
                "name": "stdout",
                "output_type": "stream",
                "text": "\r\u001b[1m\u001b[36m⠴\u001b[0m Downloading CORPCODE.zip"
              },
              {
                "name": "stdout",
                "output_type": "stream",
                "text": "\r\u001b[1m\u001b[36m⠦\u001b[0m Downloading CORPCODE.zip"
              },
              {
                "name": "stdout",
                "output_type": "stream",
                "text": "\r\u001b[1m\u001b[36m⠧\u001b[0m Downloading CORPCODE.zip"
              },
              {
                "name": "stdout",
                "output_type": "stream",
                "text": "\r\u001b[1m\u001b[36m⠇\u001b[0m Downloading CORPCODE.zip"
              },
              {
                "name": "stdout",
                "output_type": "stream",
                "text": "\r\u001b[1m\u001b[36m⠏\u001b[0m Downloading CORPCODE.zip"
              },
              {
                "name": "stdout",
                "output_type": "stream",
                "text": "\r\u001b[1m\u001b[36m⠋\u001b[0m Downloading CORPCODE.zip"
              },
              {
                "name": "stdout",
                "output_type": "stream",
                "text": "\r\u001b[1m\u001b[36m⠙\u001b[0m Downloading CORPCODE.zip"
              },
              {
                "name": "stdout",
                "output_type": "stream",
                "text": "\r\u001b[1m\u001b[36m⠹\u001b[0m Downloading CORPCODE.zip"
              },
              {
                "name": "stdout",
                "output_type": "stream",
                "text": "\r\u001b[1m\u001b[36m⠸\u001b[0m Downloading CORPCODE.zip"
              },
              {
                "name": "stdout",
                "output_type": "stream",
                "text": "\r\u001b[1m\u001b[36m⠼\u001b[0m Downloading CORPCODE.zip"
              },
              {
                "name": "stdout",
                "output_type": "stream",
                "text": "\r\u001b[1m\u001b[36m⠴\u001b[0m Downloading CORPCODE.zip"
              },
              {
                "name": "stdout",
                "output_type": "stream",
                "text": "\r\u001b[1m\u001b[36m⠦\u001b[0m Downloading CORPCODE.zip"
              },
              {
                "name": "stdout",
                "output_type": "stream",
                "text": "\r\u001b[1m\u001b[36m⠧\u001b[0m Downloading CORPCODE.zip"
              },
              {
                "name": "stdout",
                "output_type": "stream",
                "text": "\r\u001b[1m\u001b[36m⠇\u001b[0m Downloading CORPCODE.zip"
              },
              {
                "name": "stdout",
                "output_type": "stream",
                "text": "\r\u001b[1m\u001b[36m⠏\u001b[0m Downloading CORPCODE.zip"
              },
              {
                "name": "stdout",
                "output_type": "stream",
                "text": "\r\u001b[1m\u001b[36m⠋\u001b[0m Downloading CORPCODE.zip"
              },
              {
                "name": "stdout",
                "output_type": "stream",
                "text": "\r\u001b[1m\u001b[36m⠙\u001b[0m Downloading CORPCODE.zip"
              },
              {
                "name": "stdout",
                "output_type": "stream",
                "text": "\r\u001b[1m\u001b[36m⠹\u001b[0m Downloading CORPCODE.zip"
              },
              {
                "name": "stdout",
                "output_type": "stream",
                "text": "\r\u001b[1m\u001b[36m⠸\u001b[0m Downloading CORPCODE.zip"
              },
              {
                "name": "stdout",
                "output_type": "stream",
                "text": "\r\u001b[1m\u001b[36m⠼\u001b[0m Downloading CORPCODE.zip"
              },
              {
                "name": "stdout",
                "output_type": "stream",
                "text": "\r\u001b[1m\u001b[36m⠴\u001b[0m Downloading CORPCODE.zip"
              },
              {
                "name": "stdout",
                "output_type": "stream",
                "text": "\r\u001b[1m\u001b[36m⠦\u001b[0m Downloading CORPCODE.zip"
              },
              {
                "name": "stdout",
                "output_type": "stream",
                "text": "\r\u001b[1m\u001b[36m⠧\u001b[0m Downloading CORPCODE.zip"
              },
              {
                "name": "stdout",
                "output_type": "stream",
                "text": "\r\u001b[1m\u001b[36m⠇\u001b[0m Downloading CORPCODE.zip"
              },
              {
                "name": "stdout",
                "output_type": "stream",
                "text": "\r\u001b[1m\u001b[36m⠏\u001b[0m Downloading CORPCODE.zip"
              },
              {
                "name": "stdout",
                "output_type": "stream",
                "text": "\r\u001b[1m\u001b[36m⠋\u001b[0m Downloading CORPCODE.zip"
              },
              {
                "name": "stdout",
                "output_type": "stream",
                "text": "\r\u001b[1m\u001b[36m⠙\u001b[0m Downloading CORPCODE.zip"
              },
              {
                "name": "stdout",
                "output_type": "stream",
                "text": "\r\u001b[1m\u001b[36m⠹\u001b[0m Downloading CORPCODE.zip"
              },
              {
                "name": "stdout",
                "output_type": "stream",
                "text": "\r\u001b[1m\u001b[36m⠸\u001b[0m Downloading CORPCODE.zip"
              },
              {
                "name": "stdout",
                "output_type": "stream",
                "text": "\r\u001b[1m\u001b[36m⠼\u001b[0m Downloading CORPCODE.zip"
              },
              {
                "name": "stdout",
                "output_type": "stream",
                "text": "\r\u001b[1m\u001b[36m⠴\u001b[0m Downloading CORPCODE.zip"
              },
              {
                "name": "stdout",
                "output_type": "stream",
                "text": "\r\u001b[1m\u001b[36m⠦\u001b[0m Downloading CORPCODE.zip"
              },
              {
                "name": "stdout",
                "output_type": "stream",
                "text": "\r\u001b[1m\u001b[36m⠧\u001b[0m Downloading CORPCODE.zip"
              },
              {
                "name": "stdout",
                "output_type": "stream",
                "text": "\r\u001b[1m\u001b[36m⠇\u001b[0m Downloading CORPCODE.zip"
              },
              {
                "name": "stdout",
                "output_type": "stream",
                "text": "\r\u001b[1m\u001b[36m⠏\u001b[0m Downloading CORPCODE.zip"
              },
              {
                "name": "stdout",
                "output_type": "stream",
                "text": "\r\u001b[1m\u001b[36m⠋\u001b[0m Downloading CORPCODE.zip"
              },
              {
                "name": "stdout",
                "output_type": "stream",
                "text": "\r\u001b[1m\u001b[36m⠙\u001b[0m Downloading CORPCODE.zip"
              },
              {
                "name": "stdout",
                "output_type": "stream",
                "text": "\r\u001b[1m\u001b[36m⠹\u001b[0m Downloading CORPCODE.zip"
              },
              {
                "name": "stdout",
                "output_type": "stream",
                "text": "\r\u001b[1m\u001b[36m⠸\u001b[0m Downloading CORPCODE.zip"
              },
              {
                "name": "stdout",
                "output_type": "stream",
                "text": "\r\u001b[1m\u001b[36m⠼\u001b[0m Downloading CORPCODE.zip"
              },
              {
                "name": "stdout",
                "output_type": "stream",
                "text": "\r\u001b[1m\u001b[36m⠴\u001b[0m Downloading CORPCODE.zip"
              },
              {
                "name": "stdout",
                "output_type": "stream",
                "text": "\r\u001b[1m\u001b[36m⠦\u001b[0m Downloading CORPCODE.zip"
              },
              {
                "name": "stdout",
                "output_type": "stream",
                "text": "\r\u001b[1m\u001b[36m⠧\u001b[0m Downloading CORPCODE.zip"
              },
              {
                "name": "stdout",
                "output_type": "stream",
                "text": "\r\u001b[1m\u001b[36m⠇\u001b[0m Downloading CORPCODE.zip"
              },
              {
                "name": "stdout",
                "output_type": "stream",
                "text": "\r\u001b[1m\u001b[36m⠏\u001b[0m Downloading CORPCODE.zip"
              },
              {
                "name": "stdout",
                "output_type": "stream",
                "text": "\r\u001b[1m\u001b[36m⠋\u001b[0m Downloading CORPCODE.zip"
              },
              {
                "name": "stdout",
                "output_type": "stream",
                "text": "\r\u001b[1m\u001b[36m⠙\u001b[0m Downloading CORPCODE.zip"
              },
              {
                "name": "stdout",
                "output_type": "stream",
                "text": "\r\u001b[1m\u001b[36m⠹\u001b[0m Downloading CORPCODE.zip"
              },
              {
                "name": "stdout",
                "output_type": "stream",
                "text": "\r\u001b[1m\u001b[36m⠸\u001b[0m Downloading CORPCODE.zip"
              },
              {
                "name": "stdout",
                "output_type": "stream",
                "text": "\r\u001b[1m\u001b[36m⠼\u001b[0m Downloading CORPCODE.zip"
              },
              {
                "name": "stdout",
                "output_type": "stream",
                "text": "\r\u001b[1m\u001b[36m⠴\u001b[0m Downloading CORPCODE.zip"
              },
              {
                "name": "stdout",
                "output_type": "stream",
                "text": "\r\u001b[1m\u001b[36m⠦\u001b[0m Downloading CORPCODE.zip"
              },
              {
                "name": "stdout",
                "output_type": "stream",
                "text": "\r\u001b[1m\u001b[36m⠧\u001b[0m Downloading CORPCODE.zip"
              },
              {
                "name": "stdout",
                "output_type": "stream",
                "text": "\r\u001b[1m\u001b[36m⠇\u001b[0m Downloading CORPCODE.zip"
              },
              {
                "name": "stdout",
                "output_type": "stream",
                "text": "\r\u001b[1m\u001b[36m⠏\u001b[0m Downloading CORPCODE.zip"
              },
              {
                "name": "stdout",
                "output_type": "stream",
                "text": "\r\u001b[1m\u001b[36m⠋\u001b[0m Downloading CORPCODE.zip"
              },
              {
                "name": "stdout",
                "output_type": "stream",
                "text": "\r\u001b[1m\u001b[36m⠙\u001b[0m Downloading CORPCODE.zip"
              },
              {
                "name": "stdout",
                "output_type": "stream",
                "text": "\r\u001b[1m\u001b[36m⠹\u001b[0m Downloading CORPCODE.zip"
              },
              {
                "name": "stdout",
                "output_type": "stream",
                "text": "\r\u001b[1m\u001b[36m⠸\u001b[0m Downloading CORPCODE.zip"
              },
              {
                "name": "stdout",
                "output_type": "stream",
                "text": "\r\u001b[1m\u001b[36m⠼\u001b[0m Downloading CORPCODE.zip"
              },
              {
                "name": "stdout",
                "output_type": "stream",
                "text": "\r\u001b[1m\u001b[36m⠴\u001b[0m Downloading CORPCODE.zip"
              },
              {
                "name": "stdout",
                "output_type": "stream",
                "text": "\r\u001b[1m\u001b[36m⠦\u001b[0m Downloading CORPCODE.zip"
              },
              {
                "name": "stdout",
                "output_type": "stream",
                "text": "\r\u001b[1m\u001b[36m⠧\u001b[0m Downloading CORPCODE.zip"
              },
              {
                "name": "stdout",
                "output_type": "stream",
                "text": "\r\u001b[1m\u001b[36m⠇\u001b[0m Downloading CORPCODE.zip"
              },
              {
                "name": "stdout",
                "output_type": "stream",
                "text": "\r\u001b[1m\u001b[36m⠏\u001b[0m Downloading CORPCODE.zip"
              },
              {
                "name": "stdout",
                "output_type": "stream",
                "text": "\r\u001b[1m\u001b[36m⠋\u001b[0m Downloading CORPCODE.zip"
              },
              {
                "name": "stdout",
                "output_type": "stream",
                "text": "\r\u001b[1m\u001b[36m⠙\u001b[0m Downloading CORPCODE.zip"
              },
              {
                "name": "stdout",
                "output_type": "stream",
                "text": "\r\u001b[1m\u001b[36m⠹\u001b[0m Downloading CORPCODE.zip"
              },
              {
                "name": "stdout",
                "output_type": "stream",
                "text": "\r\u001b[1m\u001b[36m⠸\u001b[0m Downloading CORPCODE.zip"
              },
              {
                "name": "stdout",
                "output_type": "stream",
                "text": "\r\u001b[1m\u001b[36m⠼\u001b[0m Downloading CORPCODE.zip"
              },
              {
                "name": "stdout",
                "output_type": "stream",
                "text": "\r\u001b[1m\u001b[36m⠴\u001b[0m Downloading CORPCODE.zip"
              },
              {
                "name": "stdout",
                "output_type": "stream",
                "text": "\r\u001b[1m\u001b[36m⠦\u001b[0m Downloading CORPCODE.zip"
              },
              {
                "name": "stdout",
                "output_type": "stream",
                "text": "\r\u001b[1m\u001b[36m⠧\u001b[0m Downloading CORPCODE.zip"
              },
              {
                "name": "stdout",
                "output_type": "stream",
                "text": "\r\u001b[1m\u001b[36m⠇\u001b[0m Downloading CORPCODE.zip"
              },
              {
                "name": "stdout",
                "output_type": "stream",
                "text": "\r\u001b[1m\u001b[36m⠏\u001b[0m Downloading CORPCODE.zip"
              },
              {
                "name": "stdout",
                "output_type": "stream",
                "text": "\r\u001b[1m\u001b[36m⠋\u001b[0m Downloading CORPCODE.zip"
              },
              {
                "name": "stdout",
                "output_type": "stream",
                "text": "\r\u001b[1m\u001b[36m⠙\u001b[0m Downloading CORPCODE.zip"
              },
              {
                "name": "stdout",
                "output_type": "stream",
                "text": "\r\u001b[1m\u001b[36m⠹\u001b[0m Downloading CORPCODE.zip"
              },
              {
                "name": "stdout",
                "output_type": "stream",
                "text": "\r\u001b[1m\u001b[36m⠸\u001b[0m Downloading CORPCODE.zip"
              },
              {
                "name": "stdout",
                "output_type": "stream",
                "text": "\r\u001b[1m\u001b[36m⠼\u001b[0m Downloading CORPCODE.zip"
              },
              {
                "name": "stdout",
                "output_type": "stream",
                "text": "\r\u001b[1m\u001b[36m⠴\u001b[0m Downloading CORPCODE.zip"
              },
              {
                "name": "stdout",
                "output_type": "stream",
                "text": "\r\u001b[1m\u001b[36m⠦\u001b[0m Downloading CORPCODE.zip"
              },
              {
                "name": "stdout",
                "output_type": "stream",
                "text": "\r\u001b[1m\u001b[36m⠧\u001b[0m Downloading CORPCODE.zip"
              },
              {
                "name": "stdout",
                "output_type": "stream",
                "text": "\r\u001b[1m\u001b[36m⠇\u001b[0m Downloading CORPCODE.zip"
              },
              {
                "name": "stdout",
                "output_type": "stream",
                "text": "\r\u001b[1m\u001b[36m⠏\u001b[0m Downloading CORPCODE.zip"
              },
              {
                "name": "stdout",
                "output_type": "stream",
                "text": "\r\u001b[1m\u001b[36m⠋\u001b[0m Downloading CORPCODE.zip"
              },
              {
                "name": "stdout",
                "output_type": "stream",
                "text": "\r\u001b[1m\u001b[36m⠙\u001b[0m Downloading CORPCODE.zip"
              },
              {
                "name": "stdout",
                "output_type": "stream",
                "text": "\r\u001b[1m\u001b[36m⠹\u001b[0m Downloading CORPCODE.zip"
              },
              {
                "name": "stdout",
                "output_type": "stream",
                "text": "\r\u001b[1m\u001b[36m⠸\u001b[0m Downloading CORPCODE.zip"
              },
              {
                "name": "stdout",
                "output_type": "stream",
                "text": "\r\u001b[1m\u001b[36m⠼\u001b[0m Downloading CORPCODE.zip"
              },
              {
                "name": "stdout",
                "output_type": "stream",
                "text": "\r\u001b[1m\u001b[36m⠴\u001b[0m Downloading CORPCODE.zip"
              },
              {
                "name": "stdout",
                "output_type": "stream",
                "text": "\r\u001b[1m\u001b[36m⠦\u001b[0m Downloading CORPCODE.zip"
              },
              {
                "name": "stdout",
                "output_type": "stream",
                "text": "\r\u001b[1m\u001b[36m⠧\u001b[0m Downloading CORPCODE.zip"
              },
              {
                "name": "stdout",
                "output_type": "stream",
                "text": "\r\u001b[1m\u001b[36m⠇\u001b[0m Downloading CORPCODE.zip"
              },
              {
                "name": "stdout",
                "output_type": "stream",
                "text": "\r\u001b[1m\u001b[36m⠏\u001b[0m Downloading CORPCODE.zip"
              },
              {
                "name": "stdout",
                "output_type": "stream",
                "text": "\r\u001b[1m\u001b[36m⠋\u001b[0m Downloading CORPCODE.zip"
              },
              {
                "name": "stdout",
                "output_type": "stream",
                "text": "\r\u001b[1m\u001b[36m⠙\u001b[0m Downloading CORPCODE.zip"
              },
              {
                "name": "stdout",
                "output_type": "stream",
                "text": "\r\u001b[1m\u001b[36m⠹\u001b[0m Downloading CORPCODE.zip"
              },
              {
                "name": "stdout",
                "output_type": "stream",
                "text": "\r\u001b[1m\u001b[36m⠸\u001b[0m Downloading CORPCODE.zip"
              },
              {
                "name": "stdout",
                "output_type": "stream",
                "text": "\r\u001b[1m\u001b[36m⠼\u001b[0m Downloading CORPCODE.zip"
              },
              {
                "name": "stdout",
                "output_type": "stream",
                "text": "\r\u001b[1m\u001b[36m⠴\u001b[0m Downloading CORPCODE.zip"
              },
              {
                "name": "stdout",
                "output_type": "stream",
                "text": "\r\u001b[1m\u001b[36m⠦\u001b[0m Downloading CORPCODE.zip"
              },
              {
                "name": "stdout",
                "output_type": "stream",
                "text": "\r\u001b[1m\u001b[36m⠧\u001b[0m Downloading CORPCODE.zip"
              },
              {
                "name": "stdout",
                "output_type": "stream",
                "text": "\r\u001b[1m\u001b[36m⠇\u001b[0m Downloading CORPCODE.zip"
              },
              {
                "name": "stdout",
                "output_type": "stream",
                "text": "\r\u001b[1m\u001b[36m⠏\u001b[0m Downloading CORPCODE.zip"
              },
              {
                "name": "stdout",
                "output_type": "stream",
                "text": "\r\u001b[1m\u001b[36m⠋\u001b[0m Downloading CORPCODE.zip"
              },
              {
                "name": "stdout",
                "output_type": "stream",
                "text": "\r\u001b[1m\u001b[36m⠙\u001b[0m Downloading CORPCODE.zip"
              },
              {
                "name": "stdout",
                "output_type": "stream",
                "text": "\r\u001b[1m\u001b[36m⠹\u001b[0m Downloading CORPCODE.zip"
              },
              {
                "name": "stdout",
                "output_type": "stream",
                "text": "\r\u001b[1m\u001b[36m⠸\u001b[0m Downloading CORPCODE.zip"
              },
              {
                "name": "stdout",
                "output_type": "stream",
                "text": "\r\u001b[1m\u001b[36m⠼\u001b[0m Downloading CORPCODE.zip"
              },
              {
                "name": "stdout",
                "output_type": "stream",
                "text": "\r\u001b[1m\u001b[36m⠴\u001b[0m Downloading CORPCODE.zip"
              },
              {
                "name": "stdout",
                "output_type": "stream",
                "text": "\r\u001b[1m\u001b[36m⠦\u001b[0m Downloading CORPCODE.zip"
              },
              {
                "name": "stdout",
                "output_type": "stream",
                "text": "\r\u001b[1m\u001b[36m⠧\u001b[0m Downloading CORPCODE.zip"
              },
              {
                "name": "stdout",
                "output_type": "stream",
                "text": "\r\u001b[1m\u001b[36m⠇\u001b[0m Downloading CORPCODE.zip"
              },
              {
                "name": "stdout",
                "output_type": "stream",
                "text": "\r\u001b[1m\u001b[36m⠏\u001b[0m Downloading CORPCODE.zip"
              },
              {
                "name": "stdout",
                "output_type": "stream",
                "text": "\r\u001b[1m\u001b[36m⠋\u001b[0m Downloading CORPCODE.zip"
              },
              {
                "name": "stdout",
                "output_type": "stream",
                "text": "\r\u001b[1m\u001b[36m⠙\u001b[0m Downloading CORPCODE.zip"
              }
            ]
          }
        },
        "b2c9b253f39448d786ac4abef9a2ee2a": {
          "model_module": "@jupyter-widgets/base",
          "model_name": "LayoutModel",
          "state": {
            "_model_module": "@jupyter-widgets/base",
            "_model_module_version": "1.2.0",
            "_model_name": "LayoutModel",
            "_view_count": null,
            "_view_module": "@jupyter-widgets/base",
            "_view_module_version": "1.2.0",
            "_view_name": "LayoutView",
            "align_content": null,
            "align_items": null,
            "align_self": null,
            "border": null,
            "bottom": null,
            "display": null,
            "flex": null,
            "flex_flow": null,
            "grid_area": null,
            "grid_auto_columns": null,
            "grid_auto_flow": null,
            "grid_auto_rows": null,
            "grid_column": null,
            "grid_gap": null,
            "grid_row": null,
            "grid_template_areas": null,
            "grid_template_columns": null,
            "grid_template_rows": null,
            "height": null,
            "justify_content": null,
            "justify_items": null,
            "left": null,
            "margin": null,
            "max_height": null,
            "max_width": null,
            "min_height": null,
            "min_width": null,
            "object_fit": null,
            "object_position": null,
            "order": null,
            "overflow": null,
            "overflow_x": null,
            "overflow_y": null,
            "padding": null,
            "right": null,
            "top": null,
            "visibility": null,
            "width": null
          }
        }
      }
    }
  },
  "cells": [
    {
      "cell_type": "markdown",
      "metadata": {
        "id": "qgToOzRx3lH_"
      },
      "source": [
        "mount Google Drive"
      ]
    },
    {
      "cell_type": "code",
      "metadata": {
        "colab": {
          "base_uri": "https://localhost:8080/"
        },
        "id": "RBVbAxFSitx1",
        "outputId": "2f1cbc49-255f-48e6-a149-5d6b85c1a408"
      },
      "source": [
        "# this mounts your Google Drive to the Colab VM.\r\n",
        "from google.colab import drive\r\n",
        "drive.mount('/content/drive', force_remount=True)\r\n",
        "\r\n",
        "# enter the foldername in your Drive where you have saved the unzipped\r\n",
        "# assignment folder, e.g. 'cs231n/assignments/assignment3/'\r\n",
        "FOLDERNAME = 'crawling'\r\n",
        "assert FOLDERNAME is not None, \"[!] Enter the foldername.\"\r\n",
        "\r\n",
        "# now that we've mounted your Drive, this ensures that\r\n",
        "# the Python interpreter of the Colab VM can load\r\n",
        "# python files from within it.\r\n",
        "import sys\r\n",
        "sys.path.append('/content/drive/My Drive/{}'.format(FOLDERNAME))"
      ],
      "execution_count": null,
      "outputs": [
        {
          "output_type": "stream",
          "text": [
            "Mounted at /content/drive\n"
          ],
          "name": "stdout"
        }
      ]
    },
    {
      "cell_type": "markdown",
      "metadata": {
        "id": "q3AzS5GP3qy1"
      },
      "source": [
        "Ready for getting data from dart"
      ]
    },
    {
      "cell_type": "code",
      "metadata": {
        "colab": {
          "base_uri": "https://localhost:8080/",
          "height": 1000
        },
        "id": "rMGZ24c4XV-f",
        "outputId": "664fac9f-de8e-4d3e-f0e4-d3de9283738a"
      },
      "source": [
        "!pip install dart_fss\r\n",
        "import dart_fss as dart\r\n",
        "api_key='232ac23afd4a43c98c0070ccbbea62dc0f5ca347'\r\n",
        "dart.set_api_key(api_key=api_key)\r\n"
      ],
      "execution_count": null,
      "outputs": [
        {
          "output_type": "stream",
          "text": [
            "Collecting dart_fss\n",
            "\u001b[?25l  Downloading https://files.pythonhosted.org/packages/69/ae/0ba7bbbe4fedce8849104f9e67f99bcc6482dccf67e663689ceb488997fc/dart_fss-0.3.8-py3-none-any.whl (71kB)\n",
            "\r\u001b[K     |████▋                           | 10kB 20.3MB/s eta 0:00:01\r\u001b[K     |█████████▎                      | 20kB 26.1MB/s eta 0:00:01\r\u001b[K     |█████████████▉                  | 30kB 22.0MB/s eta 0:00:01\r\u001b[K     |██████████████████▌             | 40kB 17.0MB/s eta 0:00:01\r\u001b[K     |███████████████████████         | 51kB 15.7MB/s eta 0:00:01\r\u001b[K     |███████████████████████████▊    | 61kB 17.6MB/s eta 0:00:01\r\u001b[K     |████████████████████████████████| 71kB 6.8MB/s \n",
            "\u001b[?25hRequirement already satisfied: pandas in /usr/local/lib/python3.6/dist-packages (from dart_fss) (1.1.5)\n",
            "Requirement already satisfied: openpyxl in /usr/local/lib/python3.6/dist-packages (from dart_fss) (2.5.9)\n",
            "Requirement already satisfied: lxml in /usr/local/lib/python3.6/dist-packages (from dart_fss) (4.2.6)\n",
            "Requirement already satisfied: beautifulsoup4 in /usr/local/lib/python3.6/dist-packages (from dart_fss) (4.6.3)\n",
            "Collecting appdirs\n",
            "  Downloading https://files.pythonhosted.org/packages/3b/00/2344469e2084fb287c2e0b57b72910309874c3245463acd6cf5e3db69324/appdirs-1.4.4-py2.py3-none-any.whl\n",
            "Collecting fake-useragent\n",
            "  Downloading https://files.pythonhosted.org/packages/d1/79/af647635d6968e2deb57a208d309f6069d31cb138066d7e821e575112a80/fake-useragent-0.1.11.tar.gz\n",
            "Collecting arelle\n",
            "\u001b[?25l  Downloading https://files.pythonhosted.org/packages/b1/52/f5c9ece9355857a3c2d4fc2c6ce0a2a7a8863bf8f478a45cd7ff5927ae8e/arelle-2.2.tar.gz (1.9MB)\n",
            "\u001b[K     |████████████████████████████████| 1.9MB 13.4MB/s \n",
            "\u001b[?25hRequirement already satisfied: numpy>=1.17.0 in /usr/local/lib/python3.6/dist-packages (from dart_fss) (1.19.4)\n",
            "Collecting halo\n",
            "  Downloading https://files.pythonhosted.org/packages/ee/48/d53580d30b1fabf25d0d1fcc3f5b26d08d2ac75a1890ff6d262f9f027436/halo-0.0.31.tar.gz\n",
            "Requirement already satisfied: requests in /usr/local/lib/python3.6/dist-packages (from dart_fss) (2.23.0)\n",
            "Collecting isodate\n",
            "\u001b[?25l  Downloading https://files.pythonhosted.org/packages/9b/9f/b36f7774ff5ea8e428fdcfc4bb332c39ee5b9362ddd3d40d9516a55221b2/isodate-0.6.0-py2.py3-none-any.whl (45kB)\n",
            "\u001b[K     |████████████████████████████████| 51kB 7.9MB/s \n",
            "\u001b[?25hRequirement already satisfied: tqdm in /usr/local/lib/python3.6/dist-packages (from dart_fss) (4.41.1)\n",
            "Collecting xmltodict\n",
            "  Downloading https://files.pythonhosted.org/packages/28/fd/30d5c1d3ac29ce229f6bdc40bbc20b28f716e8b363140c26eff19122d8a5/xmltodict-0.12.0-py2.py3-none-any.whl\n",
            "Requirement already satisfied: html5lib in /usr/local/lib/python3.6/dist-packages (from dart_fss) (1.0.1)\n",
            "Requirement already satisfied: python-dateutil>=2.7.3 in /usr/local/lib/python3.6/dist-packages (from pandas->dart_fss) (2.8.1)\n",
            "Requirement already satisfied: pytz>=2017.2 in /usr/local/lib/python3.6/dist-packages (from pandas->dart_fss) (2018.9)\n",
            "Requirement already satisfied: et-xmlfile in /usr/local/lib/python3.6/dist-packages (from openpyxl->dart_fss) (1.0.1)\n",
            "Requirement already satisfied: jdcal in /usr/local/lib/python3.6/dist-packages (from openpyxl->dart_fss) (1.4.1)\n",
            "Collecting log_symbols>=0.0.14\n",
            "  Downloading https://files.pythonhosted.org/packages/28/5d/d710c38be68b0fb54e645048fe359c3904cc3cb64b2de9d40e1712bf110c/log_symbols-0.0.14-py3-none-any.whl\n",
            "Collecting spinners>=0.0.24\n",
            "  Downloading https://files.pythonhosted.org/packages/9f/8e/3310207a68118000ca27ac878b8386123628b335ecb3d4bec4743357f0d1/spinners-0.0.24-py3-none-any.whl\n",
            "Requirement already satisfied: termcolor>=1.1.0 in /usr/local/lib/python3.6/dist-packages (from halo->dart_fss) (1.1.0)\n",
            "Collecting colorama>=0.3.9\n",
            "  Downloading https://files.pythonhosted.org/packages/44/98/5b86278fbbf250d239ae0ecb724f8572af1c91f4a11edf4d36a206189440/colorama-0.4.4-py2.py3-none-any.whl\n",
            "Requirement already satisfied: six>=1.12.0 in /usr/local/lib/python3.6/dist-packages (from halo->dart_fss) (1.15.0)\n",
            "Requirement already satisfied: urllib3!=1.25.0,!=1.25.1,<1.26,>=1.21.1 in /usr/local/lib/python3.6/dist-packages (from requests->dart_fss) (1.24.3)\n",
            "Requirement already satisfied: certifi>=2017.4.17 in /usr/local/lib/python3.6/dist-packages (from requests->dart_fss) (2020.12.5)\n",
            "Requirement already satisfied: idna<3,>=2.5 in /usr/local/lib/python3.6/dist-packages (from requests->dart_fss) (2.10)\n",
            "Requirement already satisfied: chardet<4,>=3.0.2 in /usr/local/lib/python3.6/dist-packages (from requests->dart_fss) (3.0.4)\n",
            "Requirement already satisfied: webencodings in /usr/local/lib/python3.6/dist-packages (from html5lib->dart_fss) (0.5.1)\n",
            "Building wheels for collected packages: fake-useragent, arelle, halo\n",
            "  Building wheel for fake-useragent (setup.py) ... \u001b[?25l\u001b[?25hdone\n",
            "  Created wheel for fake-useragent: filename=fake_useragent-0.1.11-cp36-none-any.whl size=13485 sha256=36d62456cc6399e39d38d3392434be05dd17121c0bca31b7ac600b3a064695cc\n",
            "  Stored in directory: /root/.cache/pip/wheels/5e/63/09/d1dc15179f175357d3f5c00cbffbac37f9e8690d80545143ff\n",
            "  Building wheel for arelle (setup.py) ... \u001b[?25l\u001b[?25hdone\n",
            "  Created wheel for arelle: filename=arelle-2.2-cp36-none-any.whl size=2060309 sha256=8de43b064a8f11b1483f2c2088b1f8fde6fe6dfdd68b750237d5e2d7f691594c\n",
            "  Stored in directory: /root/.cache/pip/wheels/85/28/41/d5cb57e0ad7bbc200950bdf3d09e5970063b910ca2f243ca93\n",
            "  Building wheel for halo (setup.py) ... \u001b[?25l\u001b[?25hdone\n",
            "  Created wheel for halo: filename=halo-0.0.31-cp36-none-any.whl size=11252 sha256=0008fdfa2d97164b69fdf6f5481e289787e90743466f7fa83f0aa309dac6f6a3\n",
            "  Stored in directory: /root/.cache/pip/wheels/72/ca/3d/c8b682f6b166960e8880be54e92a0acd6f6279d26a138401ac\n",
            "Successfully built fake-useragent arelle halo\n",
            "Installing collected packages: appdirs, fake-useragent, arelle, colorama, log-symbols, spinners, halo, isodate, xmltodict, dart-fss\n",
            "Successfully installed appdirs-1.4.4 arelle-2.2 colorama-0.4.4 dart-fss-0.3.8 fake-useragent-0.1.11 halo-0.0.31 isodate-0.6.0 log-symbols-0.0.14 spinners-0.0.24 xmltodict-0.12.0\n"
          ],
          "name": "stdout"
        },
        {
          "output_type": "execute_result",
          "data": {
            "application/vnd.google.colaboratory.intrinsic+json": {
              "type": "string"
            },
            "text/plain": [
              "'232ac23afd4a43c98c0070ccbbea62dc0f5ca347'"
            ]
          },
          "metadata": {
            "tags": []
          },
          "execution_count": 2
        }
      ]
    },
    {
      "cell_type": "markdown",
      "metadata": {
        "id": "9lyQBhJY3vWb"
      },
      "source": [
        "import package"
      ]
    },
    {
      "cell_type": "code",
      "metadata": {
        "id": "aSzyi6AlXJYi"
      },
      "source": [
        "import numpy as np\r\n",
        "import pandas as pd"
      ],
      "execution_count": null,
      "outputs": []
    },
    {
      "cell_type": "markdown",
      "metadata": {
        "id": "Ms3TtIeLYdsi"
      },
      "source": [
        "\r\n",
        "dart에 공시된 회사 리스트 불러오기\r\n",
        "**List** sctor\r\n",
        "\r\n"
      ]
    },
    {
      "cell_type": "code",
      "metadata": {
        "colab": {
          "background_save": true,
          "base_uri": "https://localhost:8080/",
          "height": 1000,
          "referenced_widgets": [
            "ded5a6baf7ff4635b54caccff607c72d",
            "e9b438ae356c4d9dacce5364a28bfdfc",
            "eb2abe8d4b6a4075a646f366bc0b9ae1",
            "71c1fd65484d4a8db2649ff19192bd5b",
            "5883e0ae79a0436dad6ca20c4d3ad08b",
            "b2c9b253f39448d786ac4abef9a2ee2a"
          ]
        },
        "id": "XIEXiJssYaJl",
        "outputId": "1eb66304-08e4-4701-edf6-4dac818ba13d"
      },
      "source": [
        "corp_list=dart.get_corp_list()\r\n",
        "sector_list = corp_list.sectors"
      ],
      "execution_count": null,
      "outputs": [
        {
          "output_type": "display_data",
          "data": {
            "application/vnd.jupyter.widget-view+json": {
              "model_id": "ded5a6baf7ff4635b54caccff607c72d",
              "version_major": 2,
              "version_minor": 0
            },
            "text/plain": [
              "Output()"
            ]
          },
          "metadata": {
            "tags": []
          }
        },
        {
          "output_type": "display_data",
          "data": {
            "application/vnd.jupyter.widget-view+json": {
              "model_id": "eb2abe8d4b6a4075a646f366bc0b9ae1",
              "version_major": 2,
              "version_minor": 0
            },
            "text/plain": [
              "Output()"
            ]
          },
          "metadata": {
            "tags": []
          }
        },
        {
          "output_type": "display_data",
          "data": {
            "application/vnd.jupyter.widget-view+json": {
              "model_id": "5883e0ae79a0436dad6ca20c4d3ad08b",
              "version_major": 2,
              "version_minor": 0
            },
            "text/plain": [
              "Output()"
            ]
          },
          "metadata": {
            "tags": []
          }
        },
        {
          "output_type": "stream",
          "text": [
            "Buffered data was truncated after reaching the output size limit."
          ],
          "name": "stdout"
        }
      ]
    },
    {
      "cell_type": "markdown",
      "metadata": {
        "id": "dZ6ZX0Jv4AJ4"
      },
      "source": [
        "Arrange companys by sectors"
      ]
    },
    {
      "cell_type": "code",
      "metadata": {
        "id": "Rty4nzUYWoV4"
      },
      "source": [
        "\r\n",
        "sector_mat = pd.Series(index=sector_list)\r\n",
        "\r\n",
        "for i in sector_list:\r\n",
        "  #print(i, '\\n')\r\n",
        "  temp_data = corp_list.find_by_sector(i,market='Y')\r\n",
        "  #print(temp_data,'\\n')\r\n",
        "  sector_mat[i,] = temp_data \r\n"
      ],
      "execution_count": null,
      "outputs": []
    },
    {
      "cell_type": "markdown",
      "metadata": {
        "id": "jM3nJ2rH4HOl"
      },
      "source": [
        "Show our result"
      ]
    },
    {
      "cell_type": "code",
      "metadata": {
        "colab": {
          "base_uri": "https://localhost:8080/",
          "height": 402
        },
        "id": "lYAtzf8F0j34",
        "outputId": "b6532e9c-84dd-4529-e816-433424232e7f"
      },
      "source": [
        "sector_mat = pd.DataFrame(sector_mat)\r\n",
        "sector_mat"
      ],
      "execution_count": null,
      "outputs": [
        {
          "output_type": "execute_result",
          "data": {
            "text/html": [
              "<div>\n",
              "<style scoped>\n",
              "    .dataframe tbody tr th:only-of-type {\n",
              "        vertical-align: middle;\n",
              "    }\n",
              "\n",
              "    .dataframe tbody tr th {\n",
              "        vertical-align: top;\n",
              "    }\n",
              "\n",
              "    .dataframe thead th {\n",
              "        text-align: right;\n",
              "    }\n",
              "</style>\n",
              "<table border=\"1\" class=\"dataframe\">\n",
              "  <thead>\n",
              "    <tr style=\"text-align: right;\">\n",
              "      <th></th>\n",
              "      <th>0</th>\n",
              "    </tr>\n",
              "  </thead>\n",
              "  <tbody>\n",
              "    <tr>\n",
              "      <th>1차 비철금속 제조업</th>\n",
              "      <td>[[00102858]고려아연, [00218575]황금에스티, [00112651]대창...</td>\n",
              "    </tr>\n",
              "    <tr>\n",
              "      <th>1차 철강 제조업</th>\n",
              "      <td>[[00106669]세아베스틸, [00118451]동일제강, [00159740]KI...</td>\n",
              "    </tr>\n",
              "    <tr>\n",
              "      <th>가구 제조업</th>\n",
              "      <td>[[00161709]퍼시스, [00150633]지누스, [00139764]에넥스, ...</td>\n",
              "    </tr>\n",
              "    <tr>\n",
              "      <th>가전제품 및 정보통신장비 소매업</th>\n",
              "      <td>[[00158307]롯데하이마트]</td>\n",
              "    </tr>\n",
              "    <tr>\n",
              "      <th>가정용 기기 제조업</th>\n",
              "      <td>[[00101488]경동나비엔]</td>\n",
              "    </tr>\n",
              "    <tr>\n",
              "      <th>...</th>\n",
              "      <td>...</td>\n",
              "    </tr>\n",
              "    <tr>\n",
              "      <th>해상 운송업</th>\n",
              "      <td>[[00122737]팬오션, [00167208]흥아해운, [00113535]대한해운...</td>\n",
              "    </tr>\n",
              "    <tr>\n",
              "      <th>해체, 선별 및 원료 재생업</th>\n",
              "      <td>None</td>\n",
              "    </tr>\n",
              "    <tr>\n",
              "      <th>화학섬유 제조업</th>\n",
              "      <td>[[01316227]효성티앤씨, [00362238]휴비스, [01316254]효성첨...</td>\n",
              "    </tr>\n",
              "    <tr>\n",
              "      <th>환경 정화 및 복원업</th>\n",
              "      <td>None</td>\n",
              "    </tr>\n",
              "    <tr>\n",
              "      <th>회사 본부 및 경영 컨설팅 서비스업</th>\n",
              "      <td>[[00140168]지투알, [00138701]아세아, [00108135]녹십자홀딩...</td>\n",
              "    </tr>\n",
              "  </tbody>\n",
              "</table>\n",
              "<p>158 rows × 1 columns</p>\n",
              "</div>"
            ],
            "text/plain": [
              "                                                                     0\n",
              "1차 비철금속 제조업          [[00102858]고려아연, [00218575]황금에스티, [00112651]대창...\n",
              "1차 철강 제조업            [[00106669]세아베스틸, [00118451]동일제강, [00159740]KI...\n",
              "가구 제조업               [[00161709]퍼시스, [00150633]지누스, [00139764]에넥스, ...\n",
              "가전제품 및 정보통신장비 소매업                                   [[00158307]롯데하이마트]\n",
              "가정용 기기 제조업                                           [[00101488]경동나비엔]\n",
              "...                                                                ...\n",
              "해상 운송업               [[00122737]팬오션, [00167208]흥아해운, [00113535]대한해운...\n",
              "해체, 선별 및 원료 재생업                                                   None\n",
              "화학섬유 제조업             [[01316227]효성티앤씨, [00362238]휴비스, [01316254]효성첨...\n",
              "환경 정화 및 복원업                                                       None\n",
              "회사 본부 및 경영 컨설팅 서비스업  [[00140168]지투알, [00138701]아세아, [00108135]녹십자홀딩...\n",
              "\n",
              "[158 rows x 1 columns]"
            ]
          },
          "metadata": {
            "tags": []
          },
          "execution_count": 76
        }
      ]
    },
    {
      "cell_type": "markdown",
      "metadata": {
        "id": "QnTKiA1u4KEL"
      },
      "source": [
        "Get user's attention sector and print the company list"
      ]
    },
    {
      "cell_type": "code",
      "metadata": {
        "colab": {
          "base_uri": "https://localhost:8080/"
        },
        "id": "Rax2NehChgQi",
        "outputId": "ef2abc45-296e-42a4-8484-9bc9076f75fb"
      },
      "source": [
        "sector_input = input('input your sector : ')\r\n",
        "print(sector_mat.loc[sector_input])"
      ],
      "execution_count": null,
      "outputs": [
        {
          "output_type": "stream",
          "text": [
            "input your sector : 가구 제조업\n",
            "0    [[00161709]퍼시스, [00150633]지누스, [00139764]에넥스, ...\n",
            "Name: 가구 제조업, dtype: object\n"
          ],
          "name": "stdout"
        }
      ]
    }
  ]
}